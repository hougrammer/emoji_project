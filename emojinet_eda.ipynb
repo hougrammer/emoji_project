{
 "cells": [
  {
   "cell_type": "code",
   "execution_count": 1,
   "metadata": {},
   "outputs": [],
   "source": [
    "import numpy as np\n",
    "import pandas as pd\n",
    "import json\n",
    "import spacy\n",
    "from tqdm import tqdm\n",
    "import gensim\n",
    "# import warnings; warnings.simplefilter('ignore')\n",
    "\n",
    "import utils\n"
   ]
  },
  {
   "cell_type": "code",
   "execution_count": 2,
   "metadata": {
    "scrolled": false
   },
   "outputs": [
    {
     "data": {
      "text/html": [
       "<div>\n",
       "<style scoped>\n",
       "    .dataframe tbody tr th:only-of-type {\n",
       "        vertical-align: middle;\n",
       "    }\n",
       "\n",
       "    .dataframe tbody tr th {\n",
       "        vertical-align: top;\n",
       "    }\n",
       "\n",
       "    .dataframe thead th {\n",
       "        text-align: right;\n",
       "    }\n",
       "</style>\n",
       "<table border=\"1\" class=\"dataframe\">\n",
       "  <thead>\n",
       "    <tr style=\"text-align: right;\">\n",
       "      <th></th>\n",
       "      <th>category</th>\n",
       "      <th>definition</th>\n",
       "      <th>keywords</th>\n",
       "      <th>name</th>\n",
       "      <th>senses</th>\n",
       "      <th>shortcode</th>\n",
       "      <th>unicode</th>\n",
       "    </tr>\n",
       "  </thead>\n",
       "  <tbody>\n",
       "    <tr>\n",
       "      <th>0</th>\n",
       "      <td>Miscellaneous Symbols And Pictographs -&gt; Emoji...</td>\n",
       "      <td>The Woman Gesturing Not OK, Type-6 emoji is a ...</td>\n",
       "      <td>[dark skin tone, hand, forbidden, gesture, wom...</td>\n",
       "      <td>woman gesturing NO: dark skin tone</td>\n",
       "      <td>{'adjectives': [{'bn:00104562a': ['Contrary to...</td>\n",
       "      <td>None</td>\n",
       "      <td>U+1F645 U+1F3FF U+200D U+2640 U+FE0F</td>\n",
       "    </tr>\n",
       "    <tr>\n",
       "      <th>1</th>\n",
       "      <td>Miscellaneous Symbols And Pictographs -&gt; Emoji...</td>\n",
       "      <td>The Female Guard, Type-6 emoji is a sequence o...</td>\n",
       "      <td>[dark skin tone, woman, guard]</td>\n",
       "      <td>woman guard: dark skin tone</td>\n",
       "      <td>{'adjectives': [], 'verbs': [{'bn:00090041v': ...</td>\n",
       "      <td>None</td>\n",
       "      <td>U+1F482 U+1F3FF U+200D U+2640 U+FE0F</td>\n",
       "    </tr>\n",
       "    <tr>\n",
       "      <th>2</th>\n",
       "      <td>None</td>\n",
       "      <td>The female version of the ?? Runner emoji. The...</td>\n",
       "      <td>[racing, running, woman, marathon]</td>\n",
       "      <td>woman running</td>\n",
       "      <td>{'adjectives': [{'bn:00109994a': ['Of advancin...</td>\n",
       "      <td>None</td>\n",
       "      <td>U+1F3C3 U+200D U+2640 U+FE0F</td>\n",
       "    </tr>\n",
       "    <tr>\n",
       "      <th>3</th>\n",
       "      <td>Miscellaneous Symbols And Pictographs -&gt; Emoji...</td>\n",
       "      <td>The Woman Doing Cartwheel, Type-3 emoji is a s...</td>\n",
       "      <td>[gymnastics, medium-light skin tone, woman, ca...</td>\n",
       "      <td>woman cartwheeling: medium-light skin tone</td>\n",
       "      <td>{'adjectives': [], 'verbs': [{'bn:00084605v': ...</td>\n",
       "      <td>None</td>\n",
       "      <td>U+1F938 U+1F3FC U+200D U+2640 U+FE0F</td>\n",
       "    </tr>\n",
       "    <tr>\n",
       "      <th>4</th>\n",
       "      <td>None</td>\n",
       "      <td>The female version of the ?? Golfer emoji. The...</td>\n",
       "      <td>[woman, golf]</td>\n",
       "      <td>woman golfing</td>\n",
       "      <td>{'adjectives': [], 'verbs': [{'bn:00088979v': ...</td>\n",
       "      <td>None</td>\n",
       "      <td>U+1F3CC U+FE0F U+200D U+2640 U+FE0F</td>\n",
       "    </tr>\n",
       "  </tbody>\n",
       "</table>\n",
       "</div>"
      ],
      "text/plain": [
       "                                            category  \\\n",
       "0  Miscellaneous Symbols And Pictographs -> Emoji...   \n",
       "1  Miscellaneous Symbols And Pictographs -> Emoji...   \n",
       "2                                               None   \n",
       "3  Miscellaneous Symbols And Pictographs -> Emoji...   \n",
       "4                                               None   \n",
       "\n",
       "                                          definition  \\\n",
       "0  The Woman Gesturing Not OK, Type-6 emoji is a ...   \n",
       "1  The Female Guard, Type-6 emoji is a sequence o...   \n",
       "2  The female version of the ?? Runner emoji. The...   \n",
       "3  The Woman Doing Cartwheel, Type-3 emoji is a s...   \n",
       "4  The female version of the ?? Golfer emoji. The...   \n",
       "\n",
       "                                            keywords  \\\n",
       "0  [dark skin tone, hand, forbidden, gesture, wom...   \n",
       "1                     [dark skin tone, woman, guard]   \n",
       "2                 [racing, running, woman, marathon]   \n",
       "3  [gymnastics, medium-light skin tone, woman, ca...   \n",
       "4                                      [woman, golf]   \n",
       "\n",
       "                                         name  \\\n",
       "0          woman gesturing NO: dark skin tone   \n",
       "1                 woman guard: dark skin tone   \n",
       "2                               woman running   \n",
       "3  woman cartwheeling: medium-light skin tone   \n",
       "4                               woman golfing   \n",
       "\n",
       "                                              senses shortcode  \\\n",
       "0  {'adjectives': [{'bn:00104562a': ['Contrary to...      None   \n",
       "1  {'adjectives': [], 'verbs': [{'bn:00090041v': ...      None   \n",
       "2  {'adjectives': [{'bn:00109994a': ['Of advancin...      None   \n",
       "3  {'adjectives': [], 'verbs': [{'bn:00084605v': ...      None   \n",
       "4  {'adjectives': [], 'verbs': [{'bn:00088979v': ...      None   \n",
       "\n",
       "                                unicode  \n",
       "0  U+1F645 U+1F3FF U+200D U+2640 U+FE0F  \n",
       "1  U+1F482 U+1F3FF U+200D U+2640 U+FE0F  \n",
       "2          U+1F3C3 U+200D U+2640 U+FE0F  \n",
       "3  U+1F938 U+1F3FC U+200D U+2640 U+FE0F  \n",
       "4   U+1F3CC U+FE0F U+200D U+2640 U+FE0F  "
      ]
     },
     "execution_count": 2,
     "metadata": {},
     "output_type": "execute_result"
    }
   ],
   "source": [
    "df = pd.read_json('data/emojis.json')\n",
    "df.head()"
   ]
  },
  {
   "cell_type": "code",
   "execution_count": 4,
   "metadata": {
    "scrolled": false
   },
   "outputs": [
    {
     "name": "stdout",
     "output_type": "stream",
     "text": [
      "U+1F645\n"
     ]
    },
    {
     "data": {
      "text/html": [
       "<font size=\"+2\">🙅</font>"
      ],
      "text/plain": [
       "<IPython.core.display.HTML object>"
      ]
     },
     "metadata": {},
     "output_type": "display_data"
    },
    {
     "name": "stdout",
     "output_type": "stream",
     "text": [
      "\n",
      "U+1F3FF\n"
     ]
    },
    {
     "data": {
      "text/html": [
       "<font size=\"+2\">🏿</font>"
      ],
      "text/plain": [
       "<IPython.core.display.HTML object>"
      ]
     },
     "metadata": {},
     "output_type": "display_data"
    },
    {
     "name": "stdout",
     "output_type": "stream",
     "text": [
      "\n",
      "U+200D\n"
     ]
    },
    {
     "data": {
      "text/html": [
       "<font size=\"+2\">‍</font>"
      ],
      "text/plain": [
       "<IPython.core.display.HTML object>"
      ]
     },
     "metadata": {},
     "output_type": "display_data"
    },
    {
     "name": "stdout",
     "output_type": "stream",
     "text": [
      "\n",
      "U+2640\n"
     ]
    },
    {
     "data": {
      "text/html": [
       "<font size=\"+2\">♀</font>"
      ],
      "text/plain": [
       "<IPython.core.display.HTML object>"
      ]
     },
     "metadata": {},
     "output_type": "display_data"
    },
    {
     "name": "stdout",
     "output_type": "stream",
     "text": [
      "\n",
      "U+FE0F\n"
     ]
    },
    {
     "data": {
      "text/html": [
       "<font size=\"+2\">️</font>"
      ],
      "text/plain": [
       "<IPython.core.display.HTML object>"
      ]
     },
     "metadata": {},
     "output_type": "display_data"
    },
    {
     "name": "stdout",
     "output_type": "stream",
     "text": [
      "\n"
     ]
    }
   ],
   "source": [
    "for u in df.iloc[0].unicode.split(' '):\n",
    "    print(u)\n",
    "    utils.display_emoji(u)\n",
    "    print()"
   ]
  },
  {
   "cell_type": "code",
   "execution_count": 49,
   "metadata": {},
   "outputs": [
    {
     "data": {
      "text/plain": [
       "(2389, 7)"
      ]
     },
     "execution_count": 49,
     "metadata": {},
     "output_type": "execute_result"
    }
   ],
   "source": [
    "df.shape"
   ]
  },
  {
   "cell_type": "code",
   "execution_count": 54,
   "metadata": {},
   "outputs": [
    {
     "name": "stderr",
     "output_type": "stream",
     "text": [
      "100%|██████████| 30000/30000 [00:00<00:00, 52901.72it/s]\n",
      "/home/sm_ferro54/anaconda3/lib/python3.6/site-packages/ipykernel_launcher.py:16: DeprecationWarning: Call to deprecated `syn0` (Attribute will be removed in 4.0.0, use self.wv.vectors instead).\n",
      "  app.launch_new_instance()\n"
     ]
    }
   ],
   "source": [
    "# With Word2vec\n",
    "\n",
    "vocab_size = 30000 # keep this reasonbly small for now, we're going to be doing a search over the entire vocab\n",
    "model = gensim.models.KeyedVectors.load_word2vec_format('data/GoogleNews-vectors-negative300.bin', binary=True, limit=vocab_size)\n",
    "\n",
    "# Init blank english spacy nlp object\n",
    "nlp = spacy.blank('en')\n",
    "\n",
    "for i in tqdm(range(vocab_size)):\n",
    "    nlp.vocab.set_vector(model.index2word[i], model.vectors[i])\n",
    "# # Loop through range of all indexes, get words associated with each index.\n",
    "# # The words in the keys list will correspond to the order of the google embed matrix\n",
    "keys = [model.index2word[i] for i in range(vocab_size)]\n",
    "\n",
    "# # Set the vectors for our nlp object to the google news vectors\n",
    "nlp.vocab.vectors = spacy.vocab.Vectors(data=model.syn0, keys=keys)"
   ]
  },
  {
   "cell_type": "code",
   "execution_count": 55,
   "metadata": {
    "scrolled": false
   },
   "outputs": [
    {
     "name": "stdout",
     "output_type": "stream",
     "text": [
      "(300,)\n",
      "(300,)\n",
      "(300,)\n",
      "0.11305464059114456\n",
      "0.695676326751709\n",
      "0.7923993468284607\n",
      "0.695676326751709\n",
      "0.7923993468284607\n"
     ]
    }
   ],
   "source": [
    "print(model['woman'].shape)\n",
    "print(model['golf'].shape)\n",
    "print((model['woman']+model['golf']).shape)\n",
    "print(utils.cosine_similarity(model['woman'],model['golf']))\n",
    "print(utils.cosine_similarity(model['woman'],model['woman']+model['golf']))\n",
    "print(utils.cosine_similarity(model['golf'],model['woman']+model['golf']))\n",
    "avg = np.mean(np.concatenate((np.reshape(np.array(model['woman']),(-1,1)),np.reshape(np.array(model['golf']),(-1,1))),axis=-1),axis =1)\n",
    "print(utils.cosine_similarity(model['woman'],avg))\n",
    "print(utils.cosine_similarity(model['golf'],avg))\n"
   ]
  },
  {
   "cell_type": "markdown",
   "metadata": {},
   "source": [
    "### Interesting: Cosine similarity between a word and the sum of two words is the same as the similarity between the word and the vector average of the two words."
   ]
  },
  {
   "cell_type": "code",
   "execution_count": 56,
   "metadata": {},
   "outputs": [
    {
     "name": "stdout",
     "output_type": "stream",
     "text": [
      "(300, 2)\n"
     ]
    },
    {
     "data": {
      "text/plain": [
       "array([ 0.11279297, -0.01403809, -0.0090332 , -0.03015137,  0.00268555,\n",
       "       -0.09570312, -0.08862305, -0.01513672,  0.19848633,  0.03085327,\n",
       "       -0.02246094, -0.3642578 , -0.12670898,  0.01269531,  0.07531738,\n",
       "        0.05413818, -0.00537109,  0.1373291 ,  0.16601562, -0.05871582,\n",
       "       -0.11022949,  0.05993652,  0.0065918 , -0.12402344,  0.02276611,\n",
       "       -0.0793457 , -0.29345703,  0.3017578 ,  0.22338867, -0.09759521,\n",
       "        0.07546997,  0.05865479, -0.09844971, -0.08239746, -0.05371094,\n",
       "       -0.02685547,  0.15611267, -0.12011719,  0.14453125,  0.06298828,\n",
       "       -0.08831787,  0.01721191,  0.13183594,  0.05963135, -0.015625  ,\n",
       "       -0.20898438,  0.17675781,  0.01533508, -0.00878906,  0.33789062,\n",
       "        0.08093262,  0.05524826, -0.01660156,  0.13061523,  0.09033203,\n",
       "       -0.12207031,  0.00805664, -0.09008789,  0.18603516, -0.11489868,\n",
       "        0.07226562,  0.22167969, -0.10913086,  0.08300781,  0.16906738,\n",
       "        0.06079102,  0.06628418,  0.03222656,  0.12988281,  0.05175781,\n",
       "        0.2685547 , -0.17333984,  0.046875  , -0.01049805,  0.15478516,\n",
       "        0.27441406,  0.05718994, -0.0645752 ,  0.07907104, -0.01416016,\n",
       "        0.00439453, -0.17993164, -0.03515625,  0.00830078, -0.39160156,\n",
       "        0.12774658, -0.15039062,  0.12231445,  0.09844971, -0.10406494,\n",
       "       -0.15332031, -0.00146484, -0.078125  , -0.04693604,  0.01196289,\n",
       "       -0.01208496,  0.19934082, -0.09155273,  0.17285156, -0.0692749 ,\n",
       "       -0.13891602, -0.02734375,  0.07739258, -0.01074219,  0.22509766,\n",
       "        0.07275391,  0.29541016, -0.15332031, -0.02148438, -0.17016602,\n",
       "       -0.05856323, -0.00878906,  0.0894165 ,  0.16870117,  0.07128906,\n",
       "       -0.03637695,  0.00219727, -0.0617981 , -0.02453613,  0.1126709 ,\n",
       "       -0.03735352, -0.07479858,  0.01611328,  0.02758789, -0.05938721,\n",
       "       -0.00830078,  0.01391602, -0.01574707,  0.05249023,  0.09338379,\n",
       "        0.02099609, -0.34570312, -0.21484375,  0.11682129,  0.03173828,\n",
       "        0.02124023, -0.03271484, -0.01708984, -0.0390625 ,  0.00683594,\n",
       "        0.08154297, -0.19848633,  0.12915039,  0.01318359, -0.07788086,\n",
       "        0.21484375, -0.07232666, -0.02197266, -0.12158203, -0.24902344,\n",
       "        0.10961914, -0.03149414, -0.0390625 , -0.12939453, -0.07714844,\n",
       "        0.05291748,  0.0065918 , -0.06733704, -0.0390625 , -0.04348755,\n",
       "       -0.12963867,  0.0489502 ,  0.10400391,  0.08239746, -0.03491211,\n",
       "       -0.01000977,  0.18139648, -0.20361328, -0.01550293,  0.01725769,\n",
       "        0.0534668 ,  0.13720703, -0.10473633, -0.09570312, -0.19140625,\n",
       "       -0.16113281,  0.24414062,  0.1026001 , -0.10272217, -0.05688477,\n",
       "       -0.11523438,  0.11817932, -0.09094238, -0.08203125, -0.1418457 ,\n",
       "        0.1430664 ,  0.07495117,  0.19140625,  0.00048828, -0.11462402,\n",
       "        0.10095978,  0.24707031,  0.06890869,  0.16333008, -0.01318359,\n",
       "        0.07446289,  0.07348633,  0.06958008,  0.05175781, -0.09533691,\n",
       "       -0.1928711 , -0.04891968, -0.03222656, -0.18945312, -0.18457031,\n",
       "       -0.15429688,  0.13012695, -0.0871582 ,  0.03369141, -0.31640625,\n",
       "        0.00073242,  0.00097656,  0.01818848,  0.19433594, -0.01147461,\n",
       "        0.06152344, -0.13598633,  0.18383789, -0.15673828,  0.00732422,\n",
       "       -0.00268555, -0.2088623 ,  0.12597656, -0.08605957,  0.13378906,\n",
       "       -0.1459961 ,  0.1665039 , -0.10864258, -0.14550781, -0.08432007,\n",
       "        0.01263428, -0.15966797, -0.13842773, -0.01904297,  0.11669922,\n",
       "       -0.01135254,  0.03710938, -0.11486816,  0.10568237,  0.01416016,\n",
       "        0.15234375, -0.12426758,  0.08447266, -0.17871094,  0.13110352,\n",
       "       -0.05444336, -0.09609985, -0.07315063, -0.06774902, -0.02514648,\n",
       "        0.21679688,  0.10327148,  0.12109375, -0.04156494,  0.11743164,\n",
       "        0.09057617,  0.03460693, -0.1303711 , -0.22583008,  0.00915527,\n",
       "        0.03955078, -0.04086304, -0.02856445, -0.21044922,  0.22021484,\n",
       "        0.29492188, -0.07055664, -0.06835938, -0.1105957 , -0.03826141,\n",
       "       -0.12304688,  0.09936523, -0.24853516,  0.04528809,  0.01443481,\n",
       "       -0.01464844,  0.15820312, -0.16821289,  0.01831055, -0.04699707,\n",
       "        0.0824585 , -0.09643555,  0.09558105,  0.13085938, -0.0713501 ,\n",
       "       -0.07302856, -0.3642578 , -0.07177734, -0.03477669,  0.3857422 ,\n",
       "        0.01831055,  0.05029297, -0.12771606, -0.09765625,  0.10913086,\n",
       "        0.10083008,  0.078125  ,  0.01196289, -0.03417969,  0.0223999 ],\n",
       "      dtype=float32)"
      ]
     },
     "execution_count": 56,
     "metadata": {},
     "output_type": "execute_result"
    }
   ],
   "source": [
    "print(np.concatenate((np.reshape(np.array(model['woman']),(-1,1)),np.reshape(np.array(model['golf']),(-1,1))),axis=-1).shape)\n",
    "np.mean(np.concatenate((np.reshape(np.array(model['woman']),(-1,1)),np.reshape(np.array(model['golf']),(-1,1))),axis=-1),axis =1)"
   ]
  },
  {
   "cell_type": "code",
   "execution_count": 57,
   "metadata": {},
   "outputs": [
    {
     "ename": "KeyError",
     "evalue": "'word \\'\"\"\\' not in vocabulary'",
     "output_type": "error",
     "traceback": [
      "\u001b[0;31m---------------------------------------------------------------------------\u001b[0m",
      "\u001b[0;31mKeyError\u001b[0m                                  Traceback (most recent call last)",
      "\u001b[0;32m<ipython-input-57-1c70010429d6>\u001b[0m in \u001b[0;36m<module>\u001b[0;34m()\u001b[0m\n\u001b[1;32m      1\u001b[0m \u001b[0;32mfor\u001b[0m \u001b[0mword\u001b[0m \u001b[0;32min\u001b[0m \u001b[0mnlp\u001b[0m\u001b[0;34m.\u001b[0m\u001b[0mvocab\u001b[0m\u001b[0;34m.\u001b[0m\u001b[0mstrings\u001b[0m\u001b[0;34m:\u001b[0m\u001b[0;34m\u001b[0m\u001b[0m\n\u001b[0;32m----> 2\u001b[0;31m     \u001b[0mmodel\u001b[0m\u001b[0;34m[\u001b[0m\u001b[0mword\u001b[0m\u001b[0;34m]\u001b[0m\u001b[0;34m\u001b[0m\u001b[0m\n\u001b[0m\u001b[1;32m      3\u001b[0m     \u001b[0;31m#break\u001b[0m\u001b[0;34m\u001b[0m\u001b[0;34m\u001b[0m\u001b[0m\n",
      "\u001b[0;32m~/anaconda3/lib/python3.6/site-packages/gensim/models/keyedvectors.py\u001b[0m in \u001b[0;36m__getitem__\u001b[0;34m(self, entities)\u001b[0m\n\u001b[1;32m    335\u001b[0m         \u001b[0;32mif\u001b[0m \u001b[0misinstance\u001b[0m\u001b[0;34m(\u001b[0m\u001b[0mentities\u001b[0m\u001b[0;34m,\u001b[0m \u001b[0mstring_types\u001b[0m\u001b[0;34m)\u001b[0m\u001b[0;34m:\u001b[0m\u001b[0;34m\u001b[0m\u001b[0m\n\u001b[1;32m    336\u001b[0m             \u001b[0;31m# allow calls like trained_model['office'], as a shorthand for trained_model[['office']]\u001b[0m\u001b[0;34m\u001b[0m\u001b[0;34m\u001b[0m\u001b[0m\n\u001b[0;32m--> 337\u001b[0;31m             \u001b[0;32mreturn\u001b[0m \u001b[0mself\u001b[0m\u001b[0;34m.\u001b[0m\u001b[0mget_vector\u001b[0m\u001b[0;34m(\u001b[0m\u001b[0mentities\u001b[0m\u001b[0;34m)\u001b[0m\u001b[0;34m\u001b[0m\u001b[0m\n\u001b[0m\u001b[1;32m    338\u001b[0m \u001b[0;34m\u001b[0m\u001b[0m\n\u001b[1;32m    339\u001b[0m         \u001b[0;32mreturn\u001b[0m \u001b[0mvstack\u001b[0m\u001b[0;34m(\u001b[0m\u001b[0;34m[\u001b[0m\u001b[0mself\u001b[0m\u001b[0;34m.\u001b[0m\u001b[0mget_vector\u001b[0m\u001b[0;34m(\u001b[0m\u001b[0mentity\u001b[0m\u001b[0;34m)\u001b[0m \u001b[0;32mfor\u001b[0m \u001b[0mentity\u001b[0m \u001b[0;32min\u001b[0m \u001b[0mentities\u001b[0m\u001b[0;34m]\u001b[0m\u001b[0;34m)\u001b[0m\u001b[0;34m\u001b[0m\u001b[0m\n",
      "\u001b[0;32m~/anaconda3/lib/python3.6/site-packages/gensim/models/keyedvectors.py\u001b[0m in \u001b[0;36mget_vector\u001b[0;34m(self, word)\u001b[0m\n\u001b[1;32m    453\u001b[0m \u001b[0;34m\u001b[0m\u001b[0m\n\u001b[1;32m    454\u001b[0m     \u001b[0;32mdef\u001b[0m \u001b[0mget_vector\u001b[0m\u001b[0;34m(\u001b[0m\u001b[0mself\u001b[0m\u001b[0;34m,\u001b[0m \u001b[0mword\u001b[0m\u001b[0;34m)\u001b[0m\u001b[0;34m:\u001b[0m\u001b[0;34m\u001b[0m\u001b[0m\n\u001b[0;32m--> 455\u001b[0;31m         \u001b[0;32mreturn\u001b[0m \u001b[0mself\u001b[0m\u001b[0;34m.\u001b[0m\u001b[0mword_vec\u001b[0m\u001b[0;34m(\u001b[0m\u001b[0mword\u001b[0m\u001b[0;34m)\u001b[0m\u001b[0;34m\u001b[0m\u001b[0m\n\u001b[0m\u001b[1;32m    456\u001b[0m \u001b[0;34m\u001b[0m\u001b[0m\n\u001b[1;32m    457\u001b[0m     \u001b[0;32mdef\u001b[0m \u001b[0mwords_closer_than\u001b[0m\u001b[0;34m(\u001b[0m\u001b[0mself\u001b[0m\u001b[0;34m,\u001b[0m \u001b[0mw1\u001b[0m\u001b[0;34m,\u001b[0m \u001b[0mw2\u001b[0m\u001b[0;34m)\u001b[0m\u001b[0;34m:\u001b[0m\u001b[0;34m\u001b[0m\u001b[0m\n",
      "\u001b[0;32m~/anaconda3/lib/python3.6/site-packages/gensim/models/keyedvectors.py\u001b[0m in \u001b[0;36mword_vec\u001b[0;34m(self, word, use_norm)\u001b[0m\n\u001b[1;32m    450\u001b[0m             \u001b[0;32mreturn\u001b[0m \u001b[0mresult\u001b[0m\u001b[0;34m\u001b[0m\u001b[0m\n\u001b[1;32m    451\u001b[0m         \u001b[0;32melse\u001b[0m\u001b[0;34m:\u001b[0m\u001b[0;34m\u001b[0m\u001b[0m\n\u001b[0;32m--> 452\u001b[0;31m             \u001b[0;32mraise\u001b[0m \u001b[0mKeyError\u001b[0m\u001b[0;34m(\u001b[0m\u001b[0;34m\"word '%s' not in vocabulary\"\u001b[0m \u001b[0;34m%\u001b[0m \u001b[0mword\u001b[0m\u001b[0;34m)\u001b[0m\u001b[0;34m\u001b[0m\u001b[0m\n\u001b[0m\u001b[1;32m    453\u001b[0m \u001b[0;34m\u001b[0m\u001b[0m\n\u001b[1;32m    454\u001b[0m     \u001b[0;32mdef\u001b[0m \u001b[0mget_vector\u001b[0m\u001b[0;34m(\u001b[0m\u001b[0mself\u001b[0m\u001b[0;34m,\u001b[0m \u001b[0mword\u001b[0m\u001b[0;34m)\u001b[0m\u001b[0;34m:\u001b[0m\u001b[0;34m\u001b[0m\u001b[0m\n",
      "\u001b[0;31mKeyError\u001b[0m: 'word \\'\"\"\\' not in vocabulary'"
     ]
    }
   ],
   "source": [
    "for word in nlp.vocab.strings:\n",
    "    model[word]\n",
    "    #break"
   ]
  },
  {
   "cell_type": "code",
   "execution_count": 58,
   "metadata": {},
   "outputs": [],
   "source": [
    "# With Glove.  Let's use word2vec for now.\n",
    "\n",
    "# nlp = spacy.load('en')\n",
    "\n",
    "# with open('data/glove.6B.100d.txt', 'r') as f:\n",
    "#     for line in tqdm(f, total=400000):\n",
    "#         parts = line.split()\n",
    "#         word = parts[0]\n",
    "#         vec = np.array([float(v) for v in parts[1:]], dtype='f')\n",
    "#         nlp.vocab.set_vector(word, vec)"
   ]
  },
  {
   "cell_type": "code",
   "execution_count": 62,
   "metadata": {
    "scrolled": true
   },
   "outputs": [
    {
     "name": "stderr",
     "output_type": "stream",
     "text": [
      "100%|██████████| 2389/2389 [00:00<00:00, 5259.77it/s]\n"
     ]
    }
   ],
   "source": [
    "docs = [nlp(x) for x in tqdm(df.keywords.str.join(' '))]"
   ]
  },
  {
   "cell_type": "code",
   "execution_count": 59,
   "metadata": {},
   "outputs": [],
   "source": [
    "primary_unicodes = [u[0] for u in df.unicode.str.split(' ')]"
   ]
  },
  {
   "cell_type": "code",
   "execution_count": 60,
   "metadata": {
    "scrolled": true
   },
   "outputs": [
    {
     "name": "stdout",
     "output_type": "stream",
     "text": [
      "woman gesturing NO: dark skin tone\n"
     ]
    },
    {
     "data": {
      "text/html": [
       "<font size=\"+2\">🙅</font>"
      ],
      "text/plain": [
       "<IPython.core.display.HTML object>"
      ]
     },
     "metadata": {},
     "output_type": "display_data"
    },
    {
     "name": "stdout",
     "output_type": "stream",
     "text": [
      "\n",
      "woman guard: dark skin tone\n"
     ]
    },
    {
     "data": {
      "text/html": [
       "<font size=\"+2\">💂</font>"
      ],
      "text/plain": [
       "<IPython.core.display.HTML object>"
      ]
     },
     "metadata": {},
     "output_type": "display_data"
    },
    {
     "name": "stdout",
     "output_type": "stream",
     "text": [
      "\n",
      "woman running\n"
     ]
    },
    {
     "data": {
      "text/html": [
       "<font size=\"+2\">🏃</font>"
      ],
      "text/plain": [
       "<IPython.core.display.HTML object>"
      ]
     },
     "metadata": {},
     "output_type": "display_data"
    },
    {
     "name": "stdout",
     "output_type": "stream",
     "text": [
      "\n",
      "woman cartwheeling: medium-light skin tone\n"
     ]
    },
    {
     "data": {
      "text/html": [
       "<font size=\"+2\">🤸</font>"
      ],
      "text/plain": [
       "<IPython.core.display.HTML object>"
      ]
     },
     "metadata": {},
     "output_type": "display_data"
    },
    {
     "name": "stdout",
     "output_type": "stream",
     "text": [
      "\n",
      "woman golfing\n"
     ]
    },
    {
     "data": {
      "text/html": [
       "<font size=\"+2\">🏌</font>"
      ],
      "text/plain": [
       "<IPython.core.display.HTML object>"
      ]
     },
     "metadata": {},
     "output_type": "display_data"
    },
    {
     "name": "stdout",
     "output_type": "stream",
     "text": [
      "\n"
     ]
    }
   ],
   "source": [
    "for i in range(5):\n",
    "    print(df.iloc[i]['name'])\n",
    "    utils.display_emoji(primary_unicodes[i])\n",
    "    print()"
   ]
  },
  {
   "cell_type": "code",
   "execution_count": 63,
   "metadata": {},
   "outputs": [],
   "source": [
    "emoji_vectors = {}\n",
    "for i,u in enumerate(primary_unicodes):\n",
    "    emoji = chr(int(u[2:], 16))\n",
    "    emoji_vectors[emoji] = docs[i].vector"
   ]
  },
  {
   "cell_type": "code",
   "execution_count": 64,
   "metadata": {
    "scrolled": true
   },
   "outputs": [],
   "source": [
    "def get_similar_emoji(word_vector, n=5):\n",
    "    '''\n",
    "    returns doc index of most n most similar emoji\n",
    "    args:\n",
    "        word_vector: vector embedding of word\n",
    "    returns:\n",
    "        int index of most similar emoji if n == 1\n",
    "        (list) index of most similar emoji if n > 1\n",
    "    '''\n",
    "    indexes = np.argsort([-utils.cosine_similarity(word_vector, emoji.vector) for emoji in docs])\n",
    "    return indexes[0] if n == 1 else indexes[:n]"
   ]
  },
  {
   "cell_type": "code",
   "execution_count": 65,
   "metadata": {
    "scrolled": true
   },
   "outputs": [
    {
     "name": "stdout",
     "output_type": "stream",
     "text": [
      "eight-pointed star\n"
     ]
    },
    {
     "name": "stderr",
     "output_type": "stream",
     "text": [
      "/home/sm_ferro54/anaconda3/lib/python3.6/site-packages/scipy/spatial/distance.py:698: RuntimeWarning: invalid value encountered in float_scalars\n",
      "  dist = 1.0 - uv / np.sqrt(uu * vv)\n"
     ]
    },
    {
     "data": {
      "text/html": [
       "<font size=\"+2\">✴</font>"
      ],
      "text/plain": [
       "<IPython.core.display.HTML object>"
      ]
     },
     "metadata": {},
     "output_type": "display_data"
    },
    {
     "name": "stdout",
     "output_type": "stream",
     "text": [
      "\n",
      "sparkles\n"
     ]
    },
    {
     "data": {
      "text/html": [
       "<font size=\"+2\">✨</font>"
      ],
      "text/plain": [
       "<IPython.core.display.HTML object>"
      ]
     },
     "metadata": {},
     "output_type": "display_data"
    },
    {
     "name": "stdout",
     "output_type": "stream",
     "text": [
      "\n",
      "white medium star\n"
     ]
    },
    {
     "data": {
      "text/html": [
       "<font size=\"+2\">⭐</font>"
      ],
      "text/plain": [
       "<IPython.core.display.HTML object>"
      ]
     },
     "metadata": {},
     "output_type": "display_data"
    },
    {
     "name": "stdout",
     "output_type": "stream",
     "text": [
      "\n",
      "night with stars\n"
     ]
    },
    {
     "data": {
      "text/html": [
       "<font size=\"+2\">🌃</font>"
      ],
      "text/plain": [
       "<IPython.core.display.HTML object>"
      ]
     },
     "metadata": {},
     "output_type": "display_data"
    },
    {
     "name": "stdout",
     "output_type": "stream",
     "text": [
      "\n",
      "dotted six-pointed star\n"
     ]
    },
    {
     "data": {
      "text/html": [
       "<font size=\"+2\">🔯</font>"
      ],
      "text/plain": [
       "<IPython.core.display.HTML object>"
      ]
     },
     "metadata": {},
     "output_type": "display_data"
    },
    {
     "name": "stdout",
     "output_type": "stream",
     "text": [
      "\n"
     ]
    }
   ],
   "source": [
    "v = nlp(u'star').vector\n",
    "for i in get_similar_emoji(v):\n",
    "    print(df.iloc[i]['name'])\n",
    "    utils.display_emoji(primary_unicodes[i])\n",
    "    print()"
   ]
  },
  {
   "cell_type": "code",
   "execution_count": 66,
   "metadata": {
    "scrolled": false
   },
   "outputs": [
    {
     "name": "stdout",
     "output_type": "stream",
     "text": [
      "clapper board\n"
     ]
    },
    {
     "name": "stderr",
     "output_type": "stream",
     "text": [
      "/home/sm_ferro54/anaconda3/lib/python3.6/site-packages/scipy/spatial/distance.py:698: RuntimeWarning: invalid value encountered in float_scalars\n",
      "  dist = 1.0 - uv / np.sqrt(uu * vv)\n"
     ]
    },
    {
     "data": {
      "text/html": [
       "<font size=\"+2\">🎬</font>"
      ],
      "text/plain": [
       "<IPython.core.display.HTML object>"
      ]
     },
     "metadata": {},
     "output_type": "display_data"
    },
    {
     "name": "stdout",
     "output_type": "stream",
     "text": [
      "\n",
      "white medium star\n"
     ]
    },
    {
     "data": {
      "text/html": [
       "<font size=\"+2\">⭐</font>"
      ],
      "text/plain": [
       "<IPython.core.display.HTML object>"
      ]
     },
     "metadata": {},
     "output_type": "display_data"
    },
    {
     "name": "stdout",
     "output_type": "stream",
     "text": [
      "\n",
      "sparkles\n"
     ]
    },
    {
     "data": {
      "text/html": [
       "<font size=\"+2\">✨</font>"
      ],
      "text/plain": [
       "<IPython.core.display.HTML object>"
      ]
     },
     "metadata": {},
     "output_type": "display_data"
    },
    {
     "name": "stdout",
     "output_type": "stream",
     "text": [
      "\n",
      "eight-pointed star\n"
     ]
    },
    {
     "data": {
      "text/html": [
       "<font size=\"+2\">✴</font>"
      ],
      "text/plain": [
       "<IPython.core.display.HTML object>"
      ]
     },
     "metadata": {},
     "output_type": "display_data"
    },
    {
     "name": "stdout",
     "output_type": "stream",
     "text": [
      "\n",
      "dizzy\n"
     ]
    },
    {
     "data": {
      "text/html": [
       "<font size=\"+2\">💫</font>"
      ],
      "text/plain": [
       "<IPython.core.display.HTML object>"
      ]
     },
     "metadata": {},
     "output_type": "display_data"
    },
    {
     "name": "stdout",
     "output_type": "stream",
     "text": [
      "\n"
     ]
    }
   ],
   "source": [
    "v = nlp(u'star').vector + nlp(u'movie').vector\n",
    "for i in get_similar_emoji(v):\n",
    "    print(df.iloc[i]['name'])\n",
    "    utils.display_emoji(primary_unicodes[i])\n",
    "    print()"
   ]
  },
  {
   "cell_type": "code",
   "execution_count": 67,
   "metadata": {},
   "outputs": [],
   "source": [
    "vocab = list(nlp.vocab.strings)"
   ]
  },
  {
   "cell_type": "code",
   "execution_count": 68,
   "metadata": {},
   "outputs": [],
   "source": [
    "def get_similar_words(emoji_vector, n=5):\n",
    "    '''\n",
    "    returns doc index of most n most similar words\n",
    "    args:\n",
    "        emoji_vector: vector embedding of emoji\n",
    "    returns:\n",
    "        int index of most similar word if n == 1\n",
    "        (list) index of most similar words if n > 1\n",
    "    '''\n",
    "    indexes = np.argsort([-utils.cosine_similarity(emoji_vector, nlp(word).vector) for word in vocab])[:n]\n",
    "    return indexes[0] if n == 1 else indexes[:n]"
   ]
  },
  {
   "cell_type": "code",
   "execution_count": 69,
   "metadata": {},
   "outputs": [
    {
     "name": "stdout",
     "output_type": "stream",
     "text": [
      "1.0\n"
     ]
    }
   ],
   "source": [
    "v1 = nlp(u'star').vector\n",
    "v2 = emoji_vectors['⭐']\n",
    "print(utils.cosine_similarity(v1, v2))"
   ]
  },
  {
   "cell_type": "code",
   "execution_count": 70,
   "metadata": {},
   "outputs": [
    {
     "name": "stdout",
     "output_type": "stream",
     "text": [
      "0.12529227137565613\n"
     ]
    }
   ],
   "source": [
    "v1 = nlp(u'hello').vector\n",
    "v2 = emoji_vectors['⭐']\n",
    "print(utils.cosine_similarity(v1, v2))"
   ]
  },
  {
   "cell_type": "code",
   "execution_count": 71,
   "metadata": {},
   "outputs": [
    {
     "name": "stdout",
     "output_type": "stream",
     "text": [
      "1.0\n"
     ]
    }
   ],
   "source": [
    "print(utils.cosine_similarity(v2, nlp.vocab[u'star'].vector))"
   ]
  },
  {
   "cell_type": "code",
   "execution_count": 72,
   "metadata": {},
   "outputs": [
    {
     "name": "stderr",
     "output_type": "stream",
     "text": [
      "/home/sm_ferro54/anaconda3/lib/python3.6/site-packages/scipy/spatial/distance.py:698: RuntimeWarning: invalid value encountered in float_scalars\n",
      "  dist = 1.0 - uv / np.sqrt(uu * vv)\n",
      "100%|██████████| 5/5 [00:00<00:00, 1502.37it/s]"
     ]
    },
    {
     "name": "stdout",
     "output_type": "stream",
     "text": [
      "1795\n",
      "star\n",
      "\n",
      "2910\n",
      "stars\n",
      "\n",
      "10017\n",
      "superstar\n",
      "\n",
      "19634\n",
      "superstars\n",
      "\n",
      "9351\n",
      "standout\n",
      "\n"
     ]
    },
    {
     "name": "stderr",
     "output_type": "stream",
     "text": [
      "\n"
     ]
    }
   ],
   "source": [
    "v = emoji_vectors['⭐']\n",
    "for i in tqdm(get_similar_words(v)):\n",
    "    print(i)\n",
    "    print(vocab[i])\n",
    "    print()"
   ]
  },
  {
   "cell_type": "code",
   "execution_count": 73,
   "metadata": {},
   "outputs": [],
   "source": [
    "def encode(text):\n",
    "    '''\n",
    "    encodes text into emoji\n",
    "    args:\n",
    "        (list) text\n",
    "    returns:\n",
    "        (list) unicodes of emoji\n",
    "    '''\n",
    "    vectors = [nlp(word).vector for word in text.split(' ')]\n",
    "    return [primary_unicodes[get_similar_emoji(v, n=1)] for v in tqdm(vectors)] \n",
    "\n",
    "def decode(emoji):\n",
    "    '''\n",
    "    decodes emoji into text\n",
    "    args:\n",
    "        (list) emoji\n",
    "    returns:\n",
    "        (list) words\n",
    "    '''\n",
    "    vectors = [emoji_vectors[e] for e in emoji]\n",
    "    return [vocab[get_similar_words(v, n=1)] for v in tqdm(vectors)] "
   ]
  },
  {
   "cell_type": "code",
   "execution_count": 78,
   "metadata": {},
   "outputs": [
    {
     "name": "stderr",
     "output_type": "stream",
     "text": [
      "  0%|          | 0/2 [00:00<?, ?it/s]/home/sm_ferro54/anaconda3/lib/python3.6/site-packages/scipy/spatial/distance.py:698: RuntimeWarning: invalid value encountered in float_scalars\n",
      "  dist = 1.0 - uv / np.sqrt(uu * vv)\n",
      "100%|██████████| 2/2 [00:00<00:00,  7.20it/s]"
     ]
    },
    {
     "name": "stdout",
     "output_type": "stream",
     "text": [
      "♀🏌"
     ]
    },
    {
     "name": "stderr",
     "output_type": "stream",
     "text": [
      "\n"
     ]
    }
   ],
   "source": [
    "text = 'Woman golfing'\n",
    "encoding = encode(text)\n",
    "emoji = [chr(int(unicode[2:], 16)) for unicode in encoding]\n",
    "for e in emoji:\n",
    "    print(e, end='')"
   ]
  },
  {
   "cell_type": "code",
   "execution_count": 79,
   "metadata": {},
   "outputs": [
    {
     "name": "stderr",
     "output_type": "stream",
     "text": [
      "  0%|          | 0/2 [00:00<?, ?it/s]/home/sm_ferro54/anaconda3/lib/python3.6/site-packages/scipy/spatial/distance.py:698: RuntimeWarning: invalid value encountered in float_scalars\n",
      "  dist = 1.0 - uv / np.sqrt(uu * vv)\n",
      "100%|██████████| 2/2 [00:09<00:00,  4.76s/it]\n"
     ]
    }
   ],
   "source": [
    "decoding = decode(emoji)"
   ]
  },
  {
   "cell_type": "code",
   "execution_count": 80,
   "metadata": {},
   "outputs": [
    {
     "name": "stdout",
     "output_type": "stream",
     "text": [
      "['woman', 'skin']\n"
     ]
    }
   ],
   "source": [
    "print(decoding)"
   ]
  },
  {
   "cell_type": "code",
   "execution_count": 76,
   "metadata": {},
   "outputs": [
    {
     "data": {
      "text/plain": [
       "0.19798541069030762"
      ]
     },
     "execution_count": 76,
     "metadata": {},
     "output_type": "execute_result"
    }
   ],
   "source": [
    "utils.cosine_similarity(nlp(text).vector, nlp(' '.join(decoding)).vector)"
   ]
  },
  {
   "cell_type": "code",
   "execution_count": 77,
   "metadata": {},
   "outputs": [
    {
     "name": "stdout",
     "output_type": "stream",
     "text": [
      "woman scientist\n"
     ]
    },
    {
     "name": "stderr",
     "output_type": "stream",
     "text": [
      "/home/sm_ferro54/anaconda3/lib/python3.6/site-packages/scipy/spatial/distance.py:698: RuntimeWarning: invalid value encountered in float_scalars\n",
      "  dist = 1.0 - uv / np.sqrt(uu * vv)\n"
     ]
    },
    {
     "data": {
      "text/html": [
       "<font size=\"+2\">👩</font>"
      ],
      "text/plain": [
       "<IPython.core.display.HTML object>"
      ]
     },
     "metadata": {},
     "output_type": "display_data"
    },
    {
     "name": "stdout",
     "output_type": "stream",
     "text": [
      "\n",
      "man scientist\n"
     ]
    },
    {
     "data": {
      "text/html": [
       "<font size=\"+2\">👨</font>"
      ],
      "text/plain": [
       "<IPython.core.display.HTML object>"
      ]
     },
     "metadata": {},
     "output_type": "display_data"
    },
    {
     "name": "stdout",
     "output_type": "stream",
     "text": [
      "\n",
      "pot of food\n"
     ]
    },
    {
     "data": {
      "text/html": [
       "<font size=\"+2\">🍲</font>"
      ],
      "text/plain": [
       "<IPython.core.display.HTML object>"
      ]
     },
     "metadata": {},
     "output_type": "display_data"
    },
    {
     "name": "stdout",
     "output_type": "stream",
     "text": [
      "\n",
      "woman scientist: dark skin tone\n"
     ]
    },
    {
     "data": {
      "text/html": [
       "<font size=\"+2\">👩</font>"
      ],
      "text/plain": [
       "<IPython.core.display.HTML object>"
      ]
     },
     "metadata": {},
     "output_type": "display_data"
    },
    {
     "name": "stdout",
     "output_type": "stream",
     "text": [
      "\n",
      "woman scientist: light skin tone\n"
     ]
    },
    {
     "data": {
      "text/html": [
       "<font size=\"+2\">👩</font>"
      ],
      "text/plain": [
       "<IPython.core.display.HTML object>"
      ]
     },
     "metadata": {},
     "output_type": "display_data"
    },
    {
     "name": "stdout",
     "output_type": "stream",
     "text": [
      "\n"
     ]
    }
   ],
   "source": [
    "for i in get_similar_emoji(nlp('Berkeley').vector):\n",
    "    print(df.iloc[i]['name'])\n",
    "    utils.display_emoji(primary_unicodes[i])\n",
    "    print()"
   ]
  }
 ],
 "metadata": {
  "kernelspec": {
   "display_name": "Python 3",
   "language": "python",
   "name": "python3"
  },
  "language_info": {
   "codemirror_mode": {
    "name": "ipython",
    "version": 3
   },
   "file_extension": ".py",
   "mimetype": "text/x-python",
   "name": "python",
   "nbconvert_exporter": "python",
   "pygments_lexer": "ipython3",
   "version": "3.6.5"
  }
 },
 "nbformat": 4,
 "nbformat_minor": 2
}
