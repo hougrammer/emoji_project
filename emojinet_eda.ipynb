{
 "cells": [
  {
   "cell_type": "code",
   "execution_count": 1,
   "metadata": {},
   "outputs": [],
   "source": [
    "import numpy as np\n",
    "import pandas as pd\n",
    "import json\n",
    "import os \n",
    "from IPython.core.display import display, HTML"
   ]
  },
  {
   "cell_type": "code",
   "execution_count": 2,
   "metadata": {},
   "outputs": [
    {
     "data": {
      "text/html": [
       "<div>\n",
       "<style scoped>\n",
       "    .dataframe tbody tr th:only-of-type {\n",
       "        vertical-align: middle;\n",
       "    }\n",
       "\n",
       "    .dataframe tbody tr th {\n",
       "        vertical-align: top;\n",
       "    }\n",
       "\n",
       "    .dataframe thead th {\n",
       "        text-align: right;\n",
       "    }\n",
       "</style>\n",
       "<table border=\"1\" class=\"dataframe\">\n",
       "  <thead>\n",
       "    <tr style=\"text-align: right;\">\n",
       "      <th></th>\n",
       "      <th>category</th>\n",
       "      <th>definition</th>\n",
       "      <th>keywords</th>\n",
       "      <th>name</th>\n",
       "      <th>senses</th>\n",
       "      <th>shortcode</th>\n",
       "      <th>unicode</th>\n",
       "    </tr>\n",
       "  </thead>\n",
       "  <tbody>\n",
       "    <tr>\n",
       "      <th>0</th>\n",
       "      <td>Miscellaneous Symbols And Pictographs -&gt; Emoji...</td>\n",
       "      <td>The Woman Gesturing Not OK, Type-6 emoji is a ...</td>\n",
       "      <td>[dark skin tone, hand, forbidden, gesture, wom...</td>\n",
       "      <td>woman gesturing NO: dark skin tone</td>\n",
       "      <td>{'adjectives': [{'bn:00104562a': ['Contrary to...</td>\n",
       "      <td>None</td>\n",
       "      <td>U+1F645 U+1F3FF U+200D U+2640 U+FE0F</td>\n",
       "    </tr>\n",
       "    <tr>\n",
       "      <th>1</th>\n",
       "      <td>Miscellaneous Symbols And Pictographs -&gt; Emoji...</td>\n",
       "      <td>The Female Guard, Type-6 emoji is a sequence o...</td>\n",
       "      <td>[dark skin tone, woman, guard]</td>\n",
       "      <td>woman guard: dark skin tone</td>\n",
       "      <td>{'adjectives': [], 'verbs': [{'bn:00090041v': ...</td>\n",
       "      <td>None</td>\n",
       "      <td>U+1F482 U+1F3FF U+200D U+2640 U+FE0F</td>\n",
       "    </tr>\n",
       "    <tr>\n",
       "      <th>2</th>\n",
       "      <td>None</td>\n",
       "      <td>The female version of the ?? Runner emoji. The...</td>\n",
       "      <td>[racing, running, woman, marathon]</td>\n",
       "      <td>woman running</td>\n",
       "      <td>{'adjectives': [{'bn:00109994a': ['Of advancin...</td>\n",
       "      <td>None</td>\n",
       "      <td>U+1F3C3 U+200D U+2640 U+FE0F</td>\n",
       "    </tr>\n",
       "    <tr>\n",
       "      <th>3</th>\n",
       "      <td>Miscellaneous Symbols And Pictographs -&gt; Emoji...</td>\n",
       "      <td>The Woman Doing Cartwheel, Type-3 emoji is a s...</td>\n",
       "      <td>[gymnastics, medium-light skin tone, woman, ca...</td>\n",
       "      <td>woman cartwheeling: medium-light skin tone</td>\n",
       "      <td>{'adjectives': [], 'verbs': [{'bn:00084605v': ...</td>\n",
       "      <td>None</td>\n",
       "      <td>U+1F938 U+1F3FC U+200D U+2640 U+FE0F</td>\n",
       "    </tr>\n",
       "    <tr>\n",
       "      <th>4</th>\n",
       "      <td>None</td>\n",
       "      <td>The female version of the ?? Golfer emoji. The...</td>\n",
       "      <td>[woman, golf]</td>\n",
       "      <td>woman golfing</td>\n",
       "      <td>{'adjectives': [], 'verbs': [{'bn:00088979v': ...</td>\n",
       "      <td>None</td>\n",
       "      <td>U+1F3CC U+FE0F U+200D U+2640 U+FE0F</td>\n",
       "    </tr>\n",
       "  </tbody>\n",
       "</table>\n",
       "</div>"
      ],
      "text/plain": [
       "                                            category  \\\n",
       "0  Miscellaneous Symbols And Pictographs -> Emoji...   \n",
       "1  Miscellaneous Symbols And Pictographs -> Emoji...   \n",
       "2                                               None   \n",
       "3  Miscellaneous Symbols And Pictographs -> Emoji...   \n",
       "4                                               None   \n",
       "\n",
       "                                          definition  \\\n",
       "0  The Woman Gesturing Not OK, Type-6 emoji is a ...   \n",
       "1  The Female Guard, Type-6 emoji is a sequence o...   \n",
       "2  The female version of the ?? Runner emoji. The...   \n",
       "3  The Woman Doing Cartwheel, Type-3 emoji is a s...   \n",
       "4  The female version of the ?? Golfer emoji. The...   \n",
       "\n",
       "                                            keywords  \\\n",
       "0  [dark skin tone, hand, forbidden, gesture, wom...   \n",
       "1                     [dark skin tone, woman, guard]   \n",
       "2                 [racing, running, woman, marathon]   \n",
       "3  [gymnastics, medium-light skin tone, woman, ca...   \n",
       "4                                      [woman, golf]   \n",
       "\n",
       "                                         name  \\\n",
       "0          woman gesturing NO: dark skin tone   \n",
       "1                 woman guard: dark skin tone   \n",
       "2                               woman running   \n",
       "3  woman cartwheeling: medium-light skin tone   \n",
       "4                               woman golfing   \n",
       "\n",
       "                                              senses shortcode  \\\n",
       "0  {'adjectives': [{'bn:00104562a': ['Contrary to...      None   \n",
       "1  {'adjectives': [], 'verbs': [{'bn:00090041v': ...      None   \n",
       "2  {'adjectives': [{'bn:00109994a': ['Of advancin...      None   \n",
       "3  {'adjectives': [], 'verbs': [{'bn:00084605v': ...      None   \n",
       "4  {'adjectives': [], 'verbs': [{'bn:00088979v': ...      None   \n",
       "\n",
       "                                unicode  \n",
       "0  U+1F645 U+1F3FF U+200D U+2640 U+FE0F  \n",
       "1  U+1F482 U+1F3FF U+200D U+2640 U+FE0F  \n",
       "2          U+1F3C3 U+200D U+2640 U+FE0F  \n",
       "3  U+1F938 U+1F3FC U+200D U+2640 U+FE0F  \n",
       "4   U+1F3CC U+FE0F U+200D U+2640 U+FE0F  "
      ]
     },
     "execution_count": 2,
     "metadata": {},
     "output_type": "execute_result"
    }
   ],
   "source": [
    "df = pd.read_json('data/emojis.json')\n",
    "df.head()"
   ]
  },
  {
   "cell_type": "code",
   "execution_count": 3,
   "metadata": {},
   "outputs": [
    {
     "data": {
      "text/plain": [
       "'U+1F645 U+1F3FF U+200D U+2640 U+FE0F'"
      ]
     },
     "execution_count": 3,
     "metadata": {},
     "output_type": "execute_result"
    }
   ],
   "source": [
    "df.iloc[0].unicode"
   ]
  },
  {
   "cell_type": "code",
   "execution_count": 16,
   "metadata": {
    "scrolled": false
   },
   "outputs": [
    {
     "name": "stdout",
     "output_type": "stream",
     "text": [
      "U+1F645\n"
     ]
    },
    {
     "data": {
      "text/html": [
       "<p style=\"font-size: 32px\">🙅</p>"
      ],
      "text/plain": [
       "<IPython.core.display.HTML object>"
      ]
     },
     "metadata": {},
     "output_type": "display_data"
    },
    {
     "name": "stdout",
     "output_type": "stream",
     "text": [
      "\n",
      "U+1F3FF\n"
     ]
    },
    {
     "data": {
      "text/html": [
       "<p style=\"font-size: 32px\">🏿</p>"
      ],
      "text/plain": [
       "<IPython.core.display.HTML object>"
      ]
     },
     "metadata": {},
     "output_type": "display_data"
    },
    {
     "name": "stdout",
     "output_type": "stream",
     "text": [
      "\n",
      "U+200D\n"
     ]
    },
    {
     "data": {
      "text/html": [
       "<p style=\"font-size: 32px\">‍</p>"
      ],
      "text/plain": [
       "<IPython.core.display.HTML object>"
      ]
     },
     "metadata": {},
     "output_type": "display_data"
    },
    {
     "name": "stdout",
     "output_type": "stream",
     "text": [
      "\n",
      "U+2640\n"
     ]
    },
    {
     "data": {
      "text/html": [
       "<p style=\"font-size: 32px\">♀</p>"
      ],
      "text/plain": [
       "<IPython.core.display.HTML object>"
      ]
     },
     "metadata": {},
     "output_type": "display_data"
    },
    {
     "name": "stdout",
     "output_type": "stream",
     "text": [
      "\n",
      "U+FE0F\n"
     ]
    },
    {
     "data": {
      "text/html": [
       "<p style=\"font-size: 32px\">️</p>"
      ],
      "text/plain": [
       "<IPython.core.display.HTML object>"
      ]
     },
     "metadata": {},
     "output_type": "display_data"
    },
    {
     "name": "stdout",
     "output_type": "stream",
     "text": [
      "\n"
     ]
    }
   ],
   "source": [
    "for u in df.iloc[0].unicode.split(' '):\n",
    "    print(u)\n",
    "    display(HTML('<p style=\"font-size: 32px\">{}</p>'.format(chr(int(u[2:], 16)))))\n",
    "    print()"
   ]
  }
 ],
 "metadata": {
  "kernelspec": {
   "display_name": "Python 3",
   "language": "python",
   "name": "python3"
  },
  "language_info": {
   "codemirror_mode": {
    "name": "ipython",
    "version": 3
   },
   "file_extension": ".py",
   "mimetype": "text/x-python",
   "name": "python",
   "nbconvert_exporter": "python",
   "pygments_lexer": "ipython3",
   "version": "3.6.5"
  }
 },
 "nbformat": 4,
 "nbformat_minor": 2
}
