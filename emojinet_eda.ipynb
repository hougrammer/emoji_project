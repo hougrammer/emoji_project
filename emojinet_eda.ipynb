{
 "cells": [
  {
   "cell_type": "code",
   "execution_count": 17,
   "metadata": {},
   "outputs": [],
   "source": [
    "import numpy as np\n",
    "import pandas as pd\n",
    "import json\n",
    "import spacy\n",
    "from tqdm import tqdm\n",
    "import gensim\n",
    "# import warnings; warnings.simplefilter('ignore')\n",
    "import pickle\n",
    "\n",
    "import utils\n"
   ]
  },
  {
   "cell_type": "code",
   "execution_count": 2,
   "metadata": {
    "scrolled": false
   },
   "outputs": [
    {
     "name": "stdout",
     "output_type": "stream",
     "text": [
      "(2389, 7)\n"
     ]
    },
    {
     "data": {
      "text/html": [
       "<div>\n",
       "<style scoped>\n",
       "    .dataframe tbody tr th:only-of-type {\n",
       "        vertical-align: middle;\n",
       "    }\n",
       "\n",
       "    .dataframe tbody tr th {\n",
       "        vertical-align: top;\n",
       "    }\n",
       "\n",
       "    .dataframe thead th {\n",
       "        text-align: right;\n",
       "    }\n",
       "</style>\n",
       "<table border=\"1\" class=\"dataframe\">\n",
       "  <thead>\n",
       "    <tr style=\"text-align: right;\">\n",
       "      <th></th>\n",
       "      <th>category</th>\n",
       "      <th>definition</th>\n",
       "      <th>keywords</th>\n",
       "      <th>name</th>\n",
       "      <th>senses</th>\n",
       "      <th>shortcode</th>\n",
       "      <th>unicode</th>\n",
       "    </tr>\n",
       "  </thead>\n",
       "  <tbody>\n",
       "    <tr>\n",
       "      <th>0</th>\n",
       "      <td>Miscellaneous Symbols And Pictographs -&gt; Emoji...</td>\n",
       "      <td>The Woman Gesturing Not OK, Type-6 emoji is a ...</td>\n",
       "      <td>[dark skin tone, hand, forbidden, gesture, wom...</td>\n",
       "      <td>woman gesturing NO: dark skin tone</td>\n",
       "      <td>{'adjectives': [{'bn:00104562a': ['Contrary to...</td>\n",
       "      <td>None</td>\n",
       "      <td>U+1F645 U+1F3FF U+200D U+2640 U+FE0F</td>\n",
       "    </tr>\n",
       "    <tr>\n",
       "      <th>1</th>\n",
       "      <td>Miscellaneous Symbols And Pictographs -&gt; Emoji...</td>\n",
       "      <td>The Female Guard, Type-6 emoji is a sequence o...</td>\n",
       "      <td>[dark skin tone, woman, guard]</td>\n",
       "      <td>woman guard: dark skin tone</td>\n",
       "      <td>{'adjectives': [], 'verbs': [{'bn:00090041v': ...</td>\n",
       "      <td>None</td>\n",
       "      <td>U+1F482 U+1F3FF U+200D U+2640 U+FE0F</td>\n",
       "    </tr>\n",
       "    <tr>\n",
       "      <th>2</th>\n",
       "      <td>None</td>\n",
       "      <td>The female version of the ?? Runner emoji. The...</td>\n",
       "      <td>[racing, running, woman, marathon]</td>\n",
       "      <td>woman running</td>\n",
       "      <td>{'adjectives': [{'bn:00109994a': ['Of advancin...</td>\n",
       "      <td>None</td>\n",
       "      <td>U+1F3C3 U+200D U+2640 U+FE0F</td>\n",
       "    </tr>\n",
       "    <tr>\n",
       "      <th>3</th>\n",
       "      <td>Miscellaneous Symbols And Pictographs -&gt; Emoji...</td>\n",
       "      <td>The Woman Doing Cartwheel, Type-3 emoji is a s...</td>\n",
       "      <td>[gymnastics, medium-light skin tone, woman, ca...</td>\n",
       "      <td>woman cartwheeling: medium-light skin tone</td>\n",
       "      <td>{'adjectives': [], 'verbs': [{'bn:00084605v': ...</td>\n",
       "      <td>None</td>\n",
       "      <td>U+1F938 U+1F3FC U+200D U+2640 U+FE0F</td>\n",
       "    </tr>\n",
       "    <tr>\n",
       "      <th>4</th>\n",
       "      <td>None</td>\n",
       "      <td>The female version of the ?? Golfer emoji. The...</td>\n",
       "      <td>[woman, golf]</td>\n",
       "      <td>woman golfing</td>\n",
       "      <td>{'adjectives': [], 'verbs': [{'bn:00088979v': ...</td>\n",
       "      <td>None</td>\n",
       "      <td>U+1F3CC U+FE0F U+200D U+2640 U+FE0F</td>\n",
       "    </tr>\n",
       "  </tbody>\n",
       "</table>\n",
       "</div>"
      ],
      "text/plain": [
       "                                            category  \\\n",
       "0  Miscellaneous Symbols And Pictographs -> Emoji...   \n",
       "1  Miscellaneous Symbols And Pictographs -> Emoji...   \n",
       "2                                               None   \n",
       "3  Miscellaneous Symbols And Pictographs -> Emoji...   \n",
       "4                                               None   \n",
       "\n",
       "                                          definition  \\\n",
       "0  The Woman Gesturing Not OK, Type-6 emoji is a ...   \n",
       "1  The Female Guard, Type-6 emoji is a sequence o...   \n",
       "2  The female version of the ?? Runner emoji. The...   \n",
       "3  The Woman Doing Cartwheel, Type-3 emoji is a s...   \n",
       "4  The female version of the ?? Golfer emoji. The...   \n",
       "\n",
       "                                            keywords  \\\n",
       "0  [dark skin tone, hand, forbidden, gesture, wom...   \n",
       "1                     [dark skin tone, woman, guard]   \n",
       "2                 [racing, running, woman, marathon]   \n",
       "3  [gymnastics, medium-light skin tone, woman, ca...   \n",
       "4                                      [woman, golf]   \n",
       "\n",
       "                                         name  \\\n",
       "0          woman gesturing NO: dark skin tone   \n",
       "1                 woman guard: dark skin tone   \n",
       "2                               woman running   \n",
       "3  woman cartwheeling: medium-light skin tone   \n",
       "4                               woman golfing   \n",
       "\n",
       "                                              senses shortcode  \\\n",
       "0  {'adjectives': [{'bn:00104562a': ['Contrary to...      None   \n",
       "1  {'adjectives': [], 'verbs': [{'bn:00090041v': ...      None   \n",
       "2  {'adjectives': [{'bn:00109994a': ['Of advancin...      None   \n",
       "3  {'adjectives': [], 'verbs': [{'bn:00084605v': ...      None   \n",
       "4  {'adjectives': [], 'verbs': [{'bn:00088979v': ...      None   \n",
       "\n",
       "                                unicode  \n",
       "0  U+1F645 U+1F3FF U+200D U+2640 U+FE0F  \n",
       "1  U+1F482 U+1F3FF U+200D U+2640 U+FE0F  \n",
       "2          U+1F3C3 U+200D U+2640 U+FE0F  \n",
       "3  U+1F938 U+1F3FC U+200D U+2640 U+FE0F  \n",
       "4   U+1F3CC U+FE0F U+200D U+2640 U+FE0F  "
      ]
     },
     "execution_count": 2,
     "metadata": {},
     "output_type": "execute_result"
    }
   ],
   "source": [
    "df = pd.read_json('data/emojis.json')\n",
    "print(df.shape)\n",
    "df.head()"
   ]
  },
  {
   "cell_type": "code",
   "execution_count": 4,
   "metadata": {
    "scrolled": false
   },
   "outputs": [
    {
     "name": "stdout",
     "output_type": "stream",
     "text": [
      "U+1F645\n"
     ]
    },
    {
     "data": {
      "text/html": [
       "<font size=\"+2\">🙅</font>"
      ],
      "text/plain": [
       "<IPython.core.display.HTML object>"
      ]
     },
     "metadata": {},
     "output_type": "display_data"
    },
    {
     "name": "stdout",
     "output_type": "stream",
     "text": [
      "\n",
      "U+1F3FF\n"
     ]
    },
    {
     "data": {
      "text/html": [
       "<font size=\"+2\">🏿</font>"
      ],
      "text/plain": [
       "<IPython.core.display.HTML object>"
      ]
     },
     "metadata": {},
     "output_type": "display_data"
    },
    {
     "name": "stdout",
     "output_type": "stream",
     "text": [
      "\n",
      "U+200D\n"
     ]
    },
    {
     "data": {
      "text/html": [
       "<font size=\"+2\">‍</font>"
      ],
      "text/plain": [
       "<IPython.core.display.HTML object>"
      ]
     },
     "metadata": {},
     "output_type": "display_data"
    },
    {
     "name": "stdout",
     "output_type": "stream",
     "text": [
      "\n",
      "U+2640\n"
     ]
    },
    {
     "data": {
      "text/html": [
       "<font size=\"+2\">♀</font>"
      ],
      "text/plain": [
       "<IPython.core.display.HTML object>"
      ]
     },
     "metadata": {},
     "output_type": "display_data"
    },
    {
     "name": "stdout",
     "output_type": "stream",
     "text": [
      "\n",
      "U+FE0F\n"
     ]
    },
    {
     "data": {
      "text/html": [
       "<font size=\"+2\">️</font>"
      ],
      "text/plain": [
       "<IPython.core.display.HTML object>"
      ]
     },
     "metadata": {},
     "output_type": "display_data"
    },
    {
     "name": "stdout",
     "output_type": "stream",
     "text": [
      "\n"
     ]
    }
   ],
   "source": [
    "for u in df.iloc[0].unicode.split(' '):\n",
    "    print(u)\n",
    "    utils.display_emoji(u)\n",
    "    print()"
   ]
  },
  {
   "cell_type": "code",
   "execution_count": 3,
   "metadata": {},
   "outputs": [
    {
     "name": "stderr",
     "output_type": "stream",
     "text": [
      "100%|██████████| 30000/30000 [00:00<00:00, 74538.55it/s]\n"
     ]
    }
   ],
   "source": [
    "# With Word2vec\n",
    "\n",
    "vocab_size = 30000 # keep this reasonably small for now, we're going to be doing a search over the entire vocab\n",
    "model = gensim.models.KeyedVectors.load_word2vec_format('data/GoogleNews-vectors-negative300.bin', binary=True, limit=vocab_size)\n",
    "\n",
    "# Init blank english spacy nlp object\n",
    "nlp = spacy.blank('en')\n",
    "\n",
    "for i in tqdm(range(vocab_size)):\n",
    "    nlp.vocab.set_vector(model.index2word[i], model.vectors[i])\n",
    "# # Loop through range of all indexes, get words associated with each index.\n",
    "# # The words in the keys list will correspond to the order of the google embed matrix\n",
    "keys = [model.index2word[i] for i in range(vocab_size)]\n",
    "\n",
    "# # Set the vectors for our nlp object to the google news vectors\n",
    "nlp.vocab.vectors = spacy.vocab.Vectors(data=model.vectors, keys=keys)"
   ]
  },
  {
   "cell_type": "code",
   "execution_count": 27,
   "metadata": {},
   "outputs": [
    {
     "ename": "KeyError",
     "evalue": "\"word '<unk>' not in vocabulary\"",
     "output_type": "error",
     "traceback": [
      "\u001b[0;31m---------------------------------------------------------------------------\u001b[0m",
      "\u001b[0;31mKeyError\u001b[0m                                  Traceback (most recent call last)",
      "\u001b[0;32m<ipython-input-27-fe34706d90dd>\u001b[0m in \u001b[0;36m<module>\u001b[0;34m()\u001b[0m\n\u001b[0;32m----> 1\u001b[0;31m \u001b[0mmodel\u001b[0m\u001b[0;34m.\u001b[0m\u001b[0mword_vec\u001b[0m\u001b[0;34m(\u001b[0m\u001b[0;34m'<unk>'\u001b[0m\u001b[0;34m)\u001b[0m\u001b[0;34m\u001b[0m\u001b[0m\n\u001b[0m",
      "\u001b[0;32m~/anaconda3/lib/python3.6/site-packages/gensim/models/keyedvectors.py\u001b[0m in \u001b[0;36mword_vec\u001b[0;34m(self, word, use_norm)\u001b[0m\n\u001b[1;32m    449\u001b[0m             \u001b[0;32mreturn\u001b[0m \u001b[0mresult\u001b[0m\u001b[0;34m\u001b[0m\u001b[0m\n\u001b[1;32m    450\u001b[0m         \u001b[0;32melse\u001b[0m\u001b[0;34m:\u001b[0m\u001b[0;34m\u001b[0m\u001b[0m\n\u001b[0;32m--> 451\u001b[0;31m             \u001b[0;32mraise\u001b[0m \u001b[0mKeyError\u001b[0m\u001b[0;34m(\u001b[0m\u001b[0;34m\"word '%s' not in vocabulary\"\u001b[0m \u001b[0;34m%\u001b[0m \u001b[0mword\u001b[0m\u001b[0;34m)\u001b[0m\u001b[0;34m\u001b[0m\u001b[0m\n\u001b[0m\u001b[1;32m    452\u001b[0m \u001b[0;34m\u001b[0m\u001b[0m\n\u001b[1;32m    453\u001b[0m     \u001b[0;32mdef\u001b[0m \u001b[0mget_vector\u001b[0m\u001b[0;34m(\u001b[0m\u001b[0mself\u001b[0m\u001b[0;34m,\u001b[0m \u001b[0mword\u001b[0m\u001b[0;34m)\u001b[0m\u001b[0;34m:\u001b[0m\u001b[0;34m\u001b[0m\u001b[0m\n",
      "\u001b[0;31mKeyError\u001b[0m: \"word '<unk>' not in vocabulary\""
     ]
    }
   ],
   "source": [
    "model.word_vec('<unk>')"
   ]
  },
  {
   "cell_type": "code",
   "execution_count": 55,
   "metadata": {
    "scrolled": false
   },
   "outputs": [
    {
     "name": "stdout",
     "output_type": "stream",
     "text": [
      "(300,)\n",
      "(300,)\n",
      "(300,)\n",
      "0.11305464059114456\n",
      "0.695676326751709\n",
      "0.7923993468284607\n",
      "0.695676326751709\n",
      "0.7923993468284607\n"
     ]
    }
   ],
   "source": [
    "print(model['woman'].shape)\n",
    "print(model['golf'].shape)\n",
    "print((model['woman']+model['golf']).shape)\n",
    "print(utils.cosine_similarity(model['woman'],model['golf']))\n",
    "print(utils.cosine_similarity(model['woman'],model['woman']+model['golf']))\n",
    "print(utils.cosine_similarity(model['golf'],model['woman']+model['golf']))\n",
    "avg = np.mean(np.concatenate((np.reshape(np.array(model['woman']),(-1,1)),np.reshape(np.array(model['golf']),(-1,1))),axis=-1),axis =1)\n",
    "print(utils.cosine_similarity(model['woman'],avg))\n",
    "print(utils.cosine_similarity(model['golf'],avg))"
   ]
  },
  {
   "cell_type": "code",
   "execution_count": 21,
   "metadata": {},
   "outputs": [
    {
     "name": "stdout",
     "output_type": "stream",
     "text": [
      "<spacy.strings.StringStore object at 0x7ff36c6bc9d8>\n"
     ]
    }
   ],
   "source": [
    "print(nlp.vocab.strings)"
   ]
  },
  {
   "cell_type": "markdown",
   "metadata": {},
   "source": [
    "### Interesting: Cosine similarity between a word and the sum of two words is the same as the similarity between the word and the vector average of the two words."
   ]
  },
  {
   "cell_type": "code",
   "execution_count": 13,
   "metadata": {},
   "outputs": [
    {
     "name": "stdout",
     "output_type": "stream",
     "text": [
      "\"\"\n"
     ]
    }
   ],
   "source": [
    "for word in nlp.vocab.strings:\n",
    "    print(word)\n",
    "    break"
   ]
  },
  {
   "cell_type": "code",
   "execution_count": 58,
   "metadata": {},
   "outputs": [],
   "source": [
    "# With Glove.  Let's use word2vec for now.\n",
    "\n",
    "# nlp = spacy.load('en')\n",
    "\n",
    "# with open('data/glove.6B.100d.txt', 'r') as f:\n",
    "#     for line in tqdm(f, total=400000):\n",
    "#         parts = line.split()\n",
    "#         word = parts[0]\n",
    "#         vec = np.array([float(v) for v in parts[1:]], dtype='f')\n",
    "#         nlp.vocab.set_vector(word, vec)"
   ]
  },
  {
   "cell_type": "code",
   "execution_count": 4,
   "metadata": {
    "scrolled": true
   },
   "outputs": [
    {
     "name": "stderr",
     "output_type": "stream",
     "text": [
      "100%|██████████| 2389/2389 [00:00<00:00, 5933.77it/s]\n"
     ]
    }
   ],
   "source": [
    "docs = [nlp(x) for x in tqdm(df.keywords.str.join(' '))]"
   ]
  },
  {
   "cell_type": "code",
   "execution_count": 5,
   "metadata": {},
   "outputs": [],
   "source": [
    "primary_unicodes = [u[0] for u in df.unicode.str.split(' ')]"
   ]
  },
  {
   "cell_type": "code",
   "execution_count": 6,
   "metadata": {
    "scrolled": true
   },
   "outputs": [
    {
     "name": "stdout",
     "output_type": "stream",
     "text": [
      "woman gesturing NO: dark skin tone\n"
     ]
    },
    {
     "data": {
      "text/html": [
       "<font size=\"+2\">🙅</font>"
      ],
      "text/plain": [
       "<IPython.core.display.HTML object>"
      ]
     },
     "metadata": {},
     "output_type": "display_data"
    },
    {
     "name": "stdout",
     "output_type": "stream",
     "text": [
      "\n",
      "woman guard: dark skin tone\n"
     ]
    },
    {
     "data": {
      "text/html": [
       "<font size=\"+2\">💂</font>"
      ],
      "text/plain": [
       "<IPython.core.display.HTML object>"
      ]
     },
     "metadata": {},
     "output_type": "display_data"
    },
    {
     "name": "stdout",
     "output_type": "stream",
     "text": [
      "\n",
      "woman running\n"
     ]
    },
    {
     "data": {
      "text/html": [
       "<font size=\"+2\">🏃</font>"
      ],
      "text/plain": [
       "<IPython.core.display.HTML object>"
      ]
     },
     "metadata": {},
     "output_type": "display_data"
    },
    {
     "name": "stdout",
     "output_type": "stream",
     "text": [
      "\n",
      "woman cartwheeling: medium-light skin tone\n"
     ]
    },
    {
     "data": {
      "text/html": [
       "<font size=\"+2\">🤸</font>"
      ],
      "text/plain": [
       "<IPython.core.display.HTML object>"
      ]
     },
     "metadata": {},
     "output_type": "display_data"
    },
    {
     "name": "stdout",
     "output_type": "stream",
     "text": [
      "\n",
      "woman golfing\n"
     ]
    },
    {
     "data": {
      "text/html": [
       "<font size=\"+2\">🏌</font>"
      ],
      "text/plain": [
       "<IPython.core.display.HTML object>"
      ]
     },
     "metadata": {},
     "output_type": "display_data"
    },
    {
     "name": "stdout",
     "output_type": "stream",
     "text": [
      "\n"
     ]
    }
   ],
   "source": [
    "for i in range(5):\n",
    "    print(df.iloc[i]['name'])\n",
    "    utils.display_emoji(primary_unicodes[i])\n",
    "    print()"
   ]
  },
  {
   "cell_type": "code",
   "execution_count": 7,
   "metadata": {},
   "outputs": [],
   "source": [
    "emoji_vectors = {}\n",
    "for i,u in enumerate(primary_unicodes):\n",
    "    emoji = chr(int(u[2:], 16))\n",
    "    emoji_vectors[emoji] = docs[i].vector"
   ]
  },
  {
   "cell_type": "code",
   "execution_count": 14,
   "metadata": {},
   "outputs": [],
   "source": [
    "unicode_vectors = {}\n",
    "for i,u in enumerate(primary_unicodes):\n",
    "    unicode_vectors[primary_unicodes[i][2:]] = docs[i].vector"
   ]
  },
  {
   "cell_type": "code",
   "execution_count": 18,
   "metadata": {},
   "outputs": [],
   "source": [
    "pickle.dump(emoji_vectors, open('data/emoji_vectors.p', 'wb'))"
   ]
  },
  {
   "cell_type": "code",
   "execution_count": 19,
   "metadata": {},
   "outputs": [],
   "source": [
    "pickle.dump(unicode_vectors, open('data/unicode_vectors.p', 'wb'))"
   ]
  },
  {
   "cell_type": "code",
   "execution_count": 20,
   "metadata": {},
   "outputs": [],
   "source": [
    "x = pickle.load(open('data/emoji_vectors.p', 'rb'))"
   ]
  },
  {
   "cell_type": "code",
   "execution_count": 23,
   "metadata": {},
   "outputs": [
    {
     "data": {
      "text/plain": [
       "('🙅', array([ 0.12855114,  0.00623113,  0.06112393, -0.03385787, -0.15304288,\n",
       "        -0.02721058,  0.05570845, -0.08369029,  0.10476962,  0.03382388,\n",
       "        -0.00608132, -0.17169744, -0.0610407 ,  0.01689009, -0.15957919,\n",
       "         0.09194946, -0.01931208,  0.11918502, -0.01453746, -0.09363902,\n",
       "         0.09375   , -0.03377325, -0.02470259, -0.0533475 , -0.00224998,\n",
       "        -0.1459961 , -0.0098655 ,  0.108748  ,  0.06298828,  0.04016113,\n",
       "        -0.10621227, -0.09569203, -0.06030273, -0.01551316, -0.06245006,\n",
       "        -0.03633256,  0.05515914, -0.01250666,  0.00125954, -0.00770153,\n",
       "         0.12029474,  0.01282198,  0.09190785,  0.00502153,  0.06919167,\n",
       "        -0.04287442, -0.04181463,  0.01015403, -0.04398138, -0.04058838,\n",
       "        -0.01980036,  0.06725519, -0.02463601, -0.02156761,  0.03394708,\n",
       "        -0.02216131, -0.01426003, -0.04017223, -0.0145014 , -0.07403564,\n",
       "        -0.05496493,  0.0254794 , -0.00519354,  0.0168568 , -0.06871449,\n",
       "         0.07390802, -0.09547008,  0.10748846, -0.0674272 ,  0.11285955,\n",
       "        -0.0279763 ,  0.00528232, -0.0038499 ,  0.0715554 , -0.06970215,\n",
       "        -0.10754395,  0.09174139,  0.05610795,  0.09661033,  0.11764249,\n",
       "         0.12617216, -0.11390547,  0.09530362, -0.10028631, -0.05883234,\n",
       "        -0.01037043, -0.08152216,  0.05937056,  0.12025035,  0.04860618,\n",
       "        -0.02018044, -0.04952171,  0.00440875,  0.02320168,  0.00051048,\n",
       "        -0.07561424,  0.07229337,  0.03583318, -0.00557085, -0.04213298,\n",
       "        -0.06791548, -0.01811079, -0.08009408,  0.00162021,  0.01187411,\n",
       "        -0.11363637,  0.14950284, -0.00673138,  0.05382191, -0.0824363 ,\n",
       "        -0.08025568,  0.01915585,  0.0653964 ,  0.0742243 ,  0.0719119 ,\n",
       "        -0.02989717,  0.12180398, -0.05085338,  0.02125411,  0.10360441,\n",
       "        -0.0153656 ,  0.00334584, -0.01517001,  0.02669178, -0.04458896,\n",
       "         0.00942161,  0.03352495, -0.01250666,  0.04565707,  0.01616877,\n",
       "        -0.06014737, -0.02667791, -0.08204512, -0.02584007, -0.00224096,\n",
       "        -0.02648371,  0.00647805,  0.05246526,  0.06309093, -0.00939941,\n",
       "         0.08706942, -0.03137901,  0.03034279,  0.00972678, -0.0102983 ,\n",
       "        -0.03697621, -0.10264171, -0.04917214, -0.03576522, -0.03787509,\n",
       "         0.09880204,  0.01133451, -0.15298739,  0.00666393, -0.05485396,\n",
       "         0.07124467, -0.09444913, -0.10253906, -0.05812766,  0.02038019,\n",
       "        -0.06061346,  0.05581943,  0.13662443,  0.01056047, -0.0480957 ,\n",
       "        -0.02037464,  0.03446822, -0.05710671,  0.02201704, -0.04241389,\n",
       "        -0.05766158, -0.0086448 ,  0.01042591, -0.08464605, -0.03199907,\n",
       "        -0.05907232,  0.09896573, -0.16772461, -0.11732066, -0.09624273,\n",
       "        -0.08032782, -0.07692511,  0.0324381 , -0.0254905 , -0.02627841,\n",
       "        -0.05390514, -0.00362743, -0.06544321, -0.03176048,  0.10069691,\n",
       "        -0.00044181,  0.04245827,  0.06713867, -0.01619929, -0.04903343,\n",
       "        -0.01784446, -0.0945712 , -0.01238459, -0.08002264, -0.0686812 ,\n",
       "         0.0559304 ,  0.03081721, -0.08652566,  0.03295898,  0.07416327,\n",
       "        -0.02627841,  0.03324752,  0.04933444, -0.04643111, -0.10443115,\n",
       "        -0.06773862, -0.01824535, -0.02517978,  0.00366211,  0.07031527,\n",
       "        -0.01662376, -0.03616055,  0.10239203, -0.13007216, -0.0267112 ,\n",
       "         0.01087536,  0.02834251, -0.10015314, -0.01401589, -0.00567072,\n",
       "         0.02054665,  0.08542702,  0.01535867,  0.03706498,  0.02508268,\n",
       "         0.04895574, -0.03737571, -0.05230158,  0.1702548 ,  0.04294655,\n",
       "        -0.08269709, -0.02175071, -0.02862757,  0.10201194,  0.04829545,\n",
       "         0.15132557,  0.03815807,  0.00125399, -0.08692655,  0.080178  ,\n",
       "        -0.03259139, -0.11893606,  0.06468617,  0.08548806, -0.07669345,\n",
       "         0.05844394,  0.02439187, -0.0012318 ,  0.02623957,  0.0986994 ,\n",
       "        -0.03656561, -0.03393555,  0.0069913 ,  0.04691939,  0.05251243,\n",
       "        -0.00460261, -0.0818093 , -0.13418856, -0.00932728,  0.01788885,\n",
       "         0.00835627, -0.10777699, -0.078838  , -0.02858366, -0.12566662,\n",
       "        -0.00868711,  0.05802761,  0.0402832 , -0.03692072,  0.06828725,\n",
       "        -0.06469727, -0.09686002, -0.07128213, -0.07399958,  0.06283014,\n",
       "         0.11364746,  0.08147638,  0.09440474,  0.04699707,  0.00767933,\n",
       "        -0.00392636, -0.0937278 , -0.01661266, -0.02737704, -0.00046054,\n",
       "        -0.1360529 , -0.038036  , -0.01229581, -0.11768688,  0.00076017,\n",
       "         0.00461648,  0.04336825, -0.04493297, -0.06238903, -0.0123513 ],\n",
       "       dtype=float32))"
      ]
     },
     "execution_count": 23,
     "metadata": {},
     "output_type": "execute_result"
    }
   ],
   "source": [
    "list(x.items())[0]"
   ]
  },
  {
   "cell_type": "code",
   "execution_count": 64,
   "metadata": {
    "scrolled": true
   },
   "outputs": [],
   "source": [
    "def get_similar_emoji(word_vector, n=5):\n",
    "    '''\n",
    "    returns doc index of most n most similar emoji\n",
    "    args:\n",
    "        word_vector: vector embedding of word\n",
    "    returns:\n",
    "        int index of most similar emoji if n == 1\n",
    "        (list) index of most similar emoji if n > 1\n",
    "    '''\n",
    "    indexes = np.argsort([-utils.cosine_similarity(word_vector, emoji.vector) for emoji in docs])\n",
    "    return indexes[0] if n == 1 else indexes[:n]"
   ]
  },
  {
   "cell_type": "code",
   "execution_count": 65,
   "metadata": {
    "scrolled": true
   },
   "outputs": [
    {
     "name": "stdout",
     "output_type": "stream",
     "text": [
      "eight-pointed star\n"
     ]
    },
    {
     "name": "stderr",
     "output_type": "stream",
     "text": [
      "/home/sm_ferro54/anaconda3/lib/python3.6/site-packages/scipy/spatial/distance.py:698: RuntimeWarning: invalid value encountered in float_scalars\n",
      "  dist = 1.0 - uv / np.sqrt(uu * vv)\n"
     ]
    },
    {
     "data": {
      "text/html": [
       "<font size=\"+2\">✴</font>"
      ],
      "text/plain": [
       "<IPython.core.display.HTML object>"
      ]
     },
     "metadata": {},
     "output_type": "display_data"
    },
    {
     "name": "stdout",
     "output_type": "stream",
     "text": [
      "\n",
      "sparkles\n"
     ]
    },
    {
     "data": {
      "text/html": [
       "<font size=\"+2\">✨</font>"
      ],
      "text/plain": [
       "<IPython.core.display.HTML object>"
      ]
     },
     "metadata": {},
     "output_type": "display_data"
    },
    {
     "name": "stdout",
     "output_type": "stream",
     "text": [
      "\n",
      "white medium star\n"
     ]
    },
    {
     "data": {
      "text/html": [
       "<font size=\"+2\">⭐</font>"
      ],
      "text/plain": [
       "<IPython.core.display.HTML object>"
      ]
     },
     "metadata": {},
     "output_type": "display_data"
    },
    {
     "name": "stdout",
     "output_type": "stream",
     "text": [
      "\n",
      "night with stars\n"
     ]
    },
    {
     "data": {
      "text/html": [
       "<font size=\"+2\">🌃</font>"
      ],
      "text/plain": [
       "<IPython.core.display.HTML object>"
      ]
     },
     "metadata": {},
     "output_type": "display_data"
    },
    {
     "name": "stdout",
     "output_type": "stream",
     "text": [
      "\n",
      "dotted six-pointed star\n"
     ]
    },
    {
     "data": {
      "text/html": [
       "<font size=\"+2\">🔯</font>"
      ],
      "text/plain": [
       "<IPython.core.display.HTML object>"
      ]
     },
     "metadata": {},
     "output_type": "display_data"
    },
    {
     "name": "stdout",
     "output_type": "stream",
     "text": [
      "\n"
     ]
    }
   ],
   "source": [
    "v = nlp(u'star').vector\n",
    "for i in get_similar_emoji(v):\n",
    "    print(df.iloc[i]['name'])\n",
    "    utils.display_emoji(primary_unicodes[i])\n",
    "    print()"
   ]
  },
  {
   "cell_type": "code",
   "execution_count": 66,
   "metadata": {
    "scrolled": false
   },
   "outputs": [
    {
     "name": "stdout",
     "output_type": "stream",
     "text": [
      "clapper board\n"
     ]
    },
    {
     "name": "stderr",
     "output_type": "stream",
     "text": [
      "/home/sm_ferro54/anaconda3/lib/python3.6/site-packages/scipy/spatial/distance.py:698: RuntimeWarning: invalid value encountered in float_scalars\n",
      "  dist = 1.0 - uv / np.sqrt(uu * vv)\n"
     ]
    },
    {
     "data": {
      "text/html": [
       "<font size=\"+2\">🎬</font>"
      ],
      "text/plain": [
       "<IPython.core.display.HTML object>"
      ]
     },
     "metadata": {},
     "output_type": "display_data"
    },
    {
     "name": "stdout",
     "output_type": "stream",
     "text": [
      "\n",
      "white medium star\n"
     ]
    },
    {
     "data": {
      "text/html": [
       "<font size=\"+2\">⭐</font>"
      ],
      "text/plain": [
       "<IPython.core.display.HTML object>"
      ]
     },
     "metadata": {},
     "output_type": "display_data"
    },
    {
     "name": "stdout",
     "output_type": "stream",
     "text": [
      "\n",
      "sparkles\n"
     ]
    },
    {
     "data": {
      "text/html": [
       "<font size=\"+2\">✨</font>"
      ],
      "text/plain": [
       "<IPython.core.display.HTML object>"
      ]
     },
     "metadata": {},
     "output_type": "display_data"
    },
    {
     "name": "stdout",
     "output_type": "stream",
     "text": [
      "\n",
      "eight-pointed star\n"
     ]
    },
    {
     "data": {
      "text/html": [
       "<font size=\"+2\">✴</font>"
      ],
      "text/plain": [
       "<IPython.core.display.HTML object>"
      ]
     },
     "metadata": {},
     "output_type": "display_data"
    },
    {
     "name": "stdout",
     "output_type": "stream",
     "text": [
      "\n",
      "dizzy\n"
     ]
    },
    {
     "data": {
      "text/html": [
       "<font size=\"+2\">💫</font>"
      ],
      "text/plain": [
       "<IPython.core.display.HTML object>"
      ]
     },
     "metadata": {},
     "output_type": "display_data"
    },
    {
     "name": "stdout",
     "output_type": "stream",
     "text": [
      "\n"
     ]
    }
   ],
   "source": [
    "v = nlp(u'star').vector + nlp(u'movie').vector\n",
    "for i in get_similar_emoji(v):\n",
    "    print(df.iloc[i]['name'])\n",
    "    utils.display_emoji(primary_unicodes[i])\n",
    "    print()"
   ]
  },
  {
   "cell_type": "code",
   "execution_count": 67,
   "metadata": {},
   "outputs": [],
   "source": [
    "vocab = list(nlp.vocab.strings)"
   ]
  },
  {
   "cell_type": "code",
   "execution_count": 68,
   "metadata": {},
   "outputs": [],
   "source": [
    "def get_similar_words(emoji_vector, n=5):\n",
    "    '''\n",
    "    returns doc index of most n most similar words\n",
    "    args:\n",
    "        emoji_vector: vector embedding of emoji\n",
    "    returns:\n",
    "        int index of most similar word if n == 1\n",
    "        (list) index of most similar words if n > 1\n",
    "    '''\n",
    "    indexes = np.argsort([-utils.cosine_similarity(emoji_vector, nlp(word).vector) for word in vocab])[:n]\n",
    "    return indexes[0] if n == 1 else indexes[:n]"
   ]
  },
  {
   "cell_type": "code",
   "execution_count": 69,
   "metadata": {},
   "outputs": [
    {
     "name": "stdout",
     "output_type": "stream",
     "text": [
      "1.0\n"
     ]
    }
   ],
   "source": [
    "v1 = nlp(u'star').vector\n",
    "v2 = emoji_vectors['⭐']\n",
    "print(utils.cosine_similarity(v1, v2))"
   ]
  },
  {
   "cell_type": "code",
   "execution_count": 70,
   "metadata": {},
   "outputs": [
    {
     "name": "stdout",
     "output_type": "stream",
     "text": [
      "0.12529227137565613\n"
     ]
    }
   ],
   "source": [
    "v1 = nlp(u'hello').vector\n",
    "v2 = emoji_vectors['⭐']\n",
    "print(utils.cosine_similarity(v1, v2))"
   ]
  },
  {
   "cell_type": "code",
   "execution_count": 71,
   "metadata": {},
   "outputs": [
    {
     "name": "stdout",
     "output_type": "stream",
     "text": [
      "1.0\n"
     ]
    }
   ],
   "source": [
    "print(utils.cosine_similarity(v2, nlp.vocab[u'star'].vector))"
   ]
  },
  {
   "cell_type": "code",
   "execution_count": 72,
   "metadata": {},
   "outputs": [
    {
     "name": "stderr",
     "output_type": "stream",
     "text": [
      "/home/sm_ferro54/anaconda3/lib/python3.6/site-packages/scipy/spatial/distance.py:698: RuntimeWarning: invalid value encountered in float_scalars\n",
      "  dist = 1.0 - uv / np.sqrt(uu * vv)\n",
      "100%|██████████| 5/5 [00:00<00:00, 1502.37it/s]"
     ]
    },
    {
     "name": "stdout",
     "output_type": "stream",
     "text": [
      "1795\n",
      "star\n",
      "\n",
      "2910\n",
      "stars\n",
      "\n",
      "10017\n",
      "superstar\n",
      "\n",
      "19634\n",
      "superstars\n",
      "\n",
      "9351\n",
      "standout\n",
      "\n"
     ]
    },
    {
     "name": "stderr",
     "output_type": "stream",
     "text": [
      "\n"
     ]
    }
   ],
   "source": [
    "v = emoji_vectors['⭐']\n",
    "for i in tqdm(get_similar_words(v)):\n",
    "    print(i)\n",
    "    print(vocab[i])\n",
    "    print()"
   ]
  },
  {
   "cell_type": "code",
   "execution_count": 73,
   "metadata": {},
   "outputs": [],
   "source": [
    "def encode(text):\n",
    "    '''\n",
    "    encodes text into emoji\n",
    "    args:\n",
    "        (list) text\n",
    "    returns:\n",
    "        (list) unicodes of emoji\n",
    "    '''\n",
    "    vectors = [nlp(word).vector for word in text.split(' ')]\n",
    "    return [primary_unicodes[get_similar_emoji(v, n=1)] for v in tqdm(vectors)] \n",
    "\n",
    "def decode(emoji):\n",
    "    '''\n",
    "    decodes emoji into text\n",
    "    args:\n",
    "        (list) emoji\n",
    "    returns:\n",
    "        (list) words\n",
    "    '''\n",
    "    vectors = [emoji_vectors[e] for e in emoji]\n",
    "    return [vocab[get_similar_words(v, n=1)] for v in tqdm(vectors)] "
   ]
  },
  {
   "cell_type": "code",
   "execution_count": 78,
   "metadata": {},
   "outputs": [
    {
     "name": "stderr",
     "output_type": "stream",
     "text": [
      "  0%|          | 0/2 [00:00<?, ?it/s]/home/sm_ferro54/anaconda3/lib/python3.6/site-packages/scipy/spatial/distance.py:698: RuntimeWarning: invalid value encountered in float_scalars\n",
      "  dist = 1.0 - uv / np.sqrt(uu * vv)\n",
      "100%|██████████| 2/2 [00:00<00:00,  7.20it/s]"
     ]
    },
    {
     "name": "stdout",
     "output_type": "stream",
     "text": [
      "♀🏌"
     ]
    },
    {
     "name": "stderr",
     "output_type": "stream",
     "text": [
      "\n"
     ]
    }
   ],
   "source": [
    "text = 'Woman golfing'\n",
    "encoding = encode(text)\n",
    "emoji = [chr(int(unicode[2:], 16)) for unicode in encoding]\n",
    "for e in emoji:\n",
    "    print(e, end='')"
   ]
  },
  {
   "cell_type": "code",
   "execution_count": 79,
   "metadata": {},
   "outputs": [
    {
     "name": "stderr",
     "output_type": "stream",
     "text": [
      "  0%|          | 0/2 [00:00<?, ?it/s]/home/sm_ferro54/anaconda3/lib/python3.6/site-packages/scipy/spatial/distance.py:698: RuntimeWarning: invalid value encountered in float_scalars\n",
      "  dist = 1.0 - uv / np.sqrt(uu * vv)\n",
      "100%|██████████| 2/2 [00:09<00:00,  4.76s/it]\n"
     ]
    }
   ],
   "source": [
    "decoding = decode(emoji)"
   ]
  },
  {
   "cell_type": "code",
   "execution_count": 80,
   "metadata": {},
   "outputs": [
    {
     "name": "stdout",
     "output_type": "stream",
     "text": [
      "['woman', 'skin']\n"
     ]
    }
   ],
   "source": [
    "print(decoding)"
   ]
  },
  {
   "cell_type": "code",
   "execution_count": 76,
   "metadata": {},
   "outputs": [
    {
     "data": {
      "text/plain": [
       "0.19798541069030762"
      ]
     },
     "execution_count": 76,
     "metadata": {},
     "output_type": "execute_result"
    }
   ],
   "source": [
    "utils.cosine_similarity(nlp(text).vector, nlp(' '.join(decoding)).vector)"
   ]
  },
  {
   "cell_type": "code",
   "execution_count": 77,
   "metadata": {},
   "outputs": [
    {
     "name": "stdout",
     "output_type": "stream",
     "text": [
      "woman scientist\n"
     ]
    },
    {
     "name": "stderr",
     "output_type": "stream",
     "text": [
      "/home/sm_ferro54/anaconda3/lib/python3.6/site-packages/scipy/spatial/distance.py:698: RuntimeWarning: invalid value encountered in float_scalars\n",
      "  dist = 1.0 - uv / np.sqrt(uu * vv)\n"
     ]
    },
    {
     "data": {
      "text/html": [
       "<font size=\"+2\">👩</font>"
      ],
      "text/plain": [
       "<IPython.core.display.HTML object>"
      ]
     },
     "metadata": {},
     "output_type": "display_data"
    },
    {
     "name": "stdout",
     "output_type": "stream",
     "text": [
      "\n",
      "man scientist\n"
     ]
    },
    {
     "data": {
      "text/html": [
       "<font size=\"+2\">👨</font>"
      ],
      "text/plain": [
       "<IPython.core.display.HTML object>"
      ]
     },
     "metadata": {},
     "output_type": "display_data"
    },
    {
     "name": "stdout",
     "output_type": "stream",
     "text": [
      "\n",
      "pot of food\n"
     ]
    },
    {
     "data": {
      "text/html": [
       "<font size=\"+2\">🍲</font>"
      ],
      "text/plain": [
       "<IPython.core.display.HTML object>"
      ]
     },
     "metadata": {},
     "output_type": "display_data"
    },
    {
     "name": "stdout",
     "output_type": "stream",
     "text": [
      "\n",
      "woman scientist: dark skin tone\n"
     ]
    },
    {
     "data": {
      "text/html": [
       "<font size=\"+2\">👩</font>"
      ],
      "text/plain": [
       "<IPython.core.display.HTML object>"
      ]
     },
     "metadata": {},
     "output_type": "display_data"
    },
    {
     "name": "stdout",
     "output_type": "stream",
     "text": [
      "\n",
      "woman scientist: light skin tone\n"
     ]
    },
    {
     "data": {
      "text/html": [
       "<font size=\"+2\">👩</font>"
      ],
      "text/plain": [
       "<IPython.core.display.HTML object>"
      ]
     },
     "metadata": {},
     "output_type": "display_data"
    },
    {
     "name": "stdout",
     "output_type": "stream",
     "text": [
      "\n"
     ]
    }
   ],
   "source": [
    "for i in get_similar_emoji(nlp('Berkeley').vector):\n",
    "    print(df.iloc[i]['name'])\n",
    "    utils.display_emoji(primary_unicodes[i])\n",
    "    print()"
   ]
  }
 ],
 "metadata": {
  "kernelspec": {
   "display_name": "Python 3",
   "language": "python",
   "name": "python3"
  },
  "language_info": {
   "codemirror_mode": {
    "name": "ipython",
    "version": 3
   },
   "file_extension": ".py",
   "mimetype": "text/x-python",
   "name": "python",
   "nbconvert_exporter": "python",
   "pygments_lexer": "ipython3",
   "version": "3.6.5"
  }
 },
 "nbformat": 4,
 "nbformat_minor": 2
}
