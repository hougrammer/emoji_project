{
 "cells": [
  {
   "cell_type": "code",
   "execution_count": 10,
   "metadata": {},
   "outputs": [],
   "source": [
    "import numpy as np\n",
    "import pickle\n",
    "import utils\n",
    "from tqdm import tqdm\n",
    "import importlib"
   ]
  },
  {
   "cell_type": "code",
   "execution_count": 2,
   "metadata": {},
   "outputs": [],
   "source": [
    "emoji_vectors = pickle.load(open('data/emoji_vectors.p', 'rb'))\n",
    "moby_dick_vectors = pickle.load(open('data/moby_dick_vectors.p', 'rb'))\n",
    "moby_dick_sents = pickle.load(open('data/moby_dick_sents.p', 'rb'))\n",
    "raw_train = pickle.load(open('models/raw_train.p', 'rb'))\n",
    "raw_test = pickle.load(open('models/raw_test.p', 'rb'))"
   ]
  },
  {
   "cell_type": "code",
   "execution_count": 3,
   "metadata": {},
   "outputs": [],
   "source": [
    "word2emoji = {}\n",
    "emoji2word = {}"
   ]
  },
  {
   "cell_type": "code",
   "execution_count": 19,
   "metadata": {},
   "outputs": [
    {
     "name": "stderr",
     "output_type": "stream",
     "text": [
      "  0%|          | 0/14621 [00:00<?, ?it/s]/home/davidhou8791/anaconda3/lib/python3.6/site-packages/scipy/spatial/distance.py:698: RuntimeWarning: invalid value encountered in float_scalars\n",
      "  dist = 1.0 - uv / np.sqrt(uu * vv)\n",
      "100%|██████████| 14621/14621 [12:55<00:00, 18.85it/s]\n"
     ]
    }
   ],
   "source": [
    "for w, v in tqdm(moby_dick_vectors.items()):\n",
    "    if w not in word2emoji:\n",
    "        emoji = utils.get_similar_tokens(v, emoji_vectors)\n",
    "        word2emoji[w] = [emoji[0], utils.cosine_distance(v, emoji[1])]"
   ]
  },
  {
   "cell_type": "code",
   "execution_count": 20,
   "metadata": {},
   "outputs": [
    {
     "name": "stderr",
     "output_type": "stream",
     "text": [
      "  0%|          | 0/1126 [00:00<?, ?it/s]/home/davidhou8791/anaconda3/lib/python3.6/site-packages/scipy/spatial/distance.py:698: RuntimeWarning: invalid value encountered in double_scalars\n",
      "  dist = 1.0 - uv / np.sqrt(uu * vv)\n",
      "  0%|          | 5/1126 [00:03<12:37,  1.48it/s]/home/davidhou8791/anaconda3/lib/python3.6/site-packages/scipy/spatial/distance.py:698: RuntimeWarning: invalid value encountered in float_scalars\n",
      "  dist = 1.0 - uv / np.sqrt(uu * vv)\n",
      "100%|██████████| 1126/1126 [12:31<00:00,  1.43it/s]\n"
     ]
    }
   ],
   "source": [
    "for e, v in tqdm(emoji_vectors.items()):\n",
    "    if e not in emoji2word:\n",
    "        word = utils.get_similar_tokens(v, moby_dick_vectors)\n",
    "        emoji2word[w] = [word[0], utils.cosine_distance(v, word[1])]"
   ]
  },
  {
   "cell_type": "code",
   "execution_count": 21,
   "metadata": {},
   "outputs": [],
   "source": [
    "pickle.dump(word2emoji, open('data/word2emoji.p', 'wb'))\n",
    "pickle.dump(emoji2word, open('data/emoji2word.p', 'wb'))"
   ]
  },
  {
   "cell_type": "code",
   "execution_count": 53,
   "metadata": {},
   "outputs": [
    {
     "name": "stdout",
     "output_type": "stream",
     "text": [
      "[] []\n"
     ]
    }
   ],
   "source": [
    "predictions = []\n",
    "distances = []\n",
    "for i,s in enumerate(raw_test):\n",
    "    p = []\n",
    "    d = []\n",
    "    for word in s:\n",
    "        w = word.lower()\n",
    "        if w in word2emoji:\n",
    "            p.append(word2emoji[w][0])\n",
    "            d.append(word2emoji[w][1])\n",
    "    if i == 250: print(p,d)\n",
    "    predictions.append(p if p else [''])\n",
    "    distances.append(d if d else [1])\n",
    "        "
   ]
  },
  {
   "cell_type": "code",
   "execution_count": 56,
   "metadata": {},
   "outputs": [],
   "source": [
    "means = [np.mean(s) for s in distances]"
   ]
  },
  {
   "cell_type": "code",
   "execution_count": 57,
   "metadata": {},
   "outputs": [
    {
     "data": {
      "text/plain": [
       "0.6441458945907571"
      ]
     },
     "execution_count": 57,
     "metadata": {},
     "output_type": "execute_result"
    }
   ],
   "source": [
    "np.mean(means)"
   ]
  },
  {
   "cell_type": "code",
   "execution_count": 61,
   "metadata": {},
   "outputs": [
    {
     "name": "stdout",
     "output_type": "stream",
     "text": [
      "Raw sentence: \" Welding an old pike - head , sir ; there were seams and dents in it .\"\n",
      "Prediction: {'🤥', '🤽', '🦄', '🚫', '🙅', '🙏', '🤷', '🤹', '🦈', '🈺', '🤺'}\n",
      "Cosine distance: 0.6734274054567019\n",
      "\n",
      "Raw sentence: From this one poor hunt , then , the best lance out of all Nantucket , surely he will not hang back , when every foremast - hand has clutched a whetstone ?\n",
      "Prediction: {'🥄', '🔙', '🏳', '🕜', '⛺', '🤷', '🈺', '🆕', '🔞', '🙅', '📉', '🤒', '⛹', '🈁', '🈶', '↪', '🚤', '👏', '😡', '🆘', '🤼', '⏮'}\n",
      "Cosine distance: 0.5867433237532774\n",
      "\n",
      "Raw sentence: drop them over , fore and aft .\n",
      "Prediction: {'🆙', '🙅', '🕝', '🔻', '⏸'}\n",
      "Cosine distance: 0.6943917065858841\n",
      "\n",
      "Raw sentence: Moreover , in the infancy of the first Australian settlement , the emigrants were several times saved from starvation by the benevolent biscuit of the whale - ship luckily dropping an anchor in their waters .\n",
      "Prediction: {'🤥', '🙅', '🥞', '🤑', '🥜', '⏭', '🔱', '🦈', '🙌', '🆔', '🙏', '🔻', '🚣', '🦐', '🙋', '🈶', '🈺', '🚿', '🤝', '⏮'}\n",
      "Cosine distance: 0.6557610183954239\n",
      "\n",
      "Raw sentence: \" The mighty whales which swim in a sea of water , and have a sea of oil swimming in them .\"\n",
      "Prediction: {'😤', '🙅', '🥜', '⏮', '🦈', '🈶', '🈁', '🈺', '🚿', '🏃'}\n",
      "Cosine distance: 0.5693045748131615\n",
      "\n",
      "Raw sentence: Lashed round and round to the fish ' s back ; pinioned in the turns upon turns in which , during the past night , the whale had reeled the involutions of the lines around him , the half torn body of the Parsee was seen ; his sable raiment frayed to shreds ; his distended eyes turned full upon old Ahab .\n",
      "Prediction: {'🔙', '⏭', '⏸', '🤵', '🈺', '💁', '⏩', '🙅', '🤐', '⛹', '🈶', '😤', '🤽', '😢', '🗞', '🤞', '🦈', '🥀', '🆙', '⛎', '👁', '🀄', '🦇', '🙍', '🤕', '😠', '👱', '⏮'}\n",
      "Cosine distance: 0.6459360977119588\n",
      "\n",
      "Raw sentence: it is a mild , mild wind , and a mild looking sky .\n",
      "Prediction: {'🚫', '🏂', '😎', '🤔', '🙆', '🈶'}\n",
      "Cosine distance: 0.6534411050379276\n",
      "\n",
      "Raw sentence: But to a large and thorough sweeping comprehension of him , it behooves me now to unbutton him still further , and untagging the points of his hose , unbuckling his garters , and casting loose the hooks and the eyes of the joints of his innermost bones , set him before you in his ultimatum ; that is to say , in his unconditional skeleton .\n",
      "Prediction: {'🏳', '🚫', '⏭', '🙏', '🙇', '🈺', '🤝', '🆕', '🈴', '📍', '🤐', '⛹', '🚒', '🦐', '🈁', '🈶', '🤠', '😤', 'Ⓜ', '👁', '🙍', '🤔', '🤗', '🤘', '👱'}\n",
      "Cosine distance: 0.6530430362276409\n",
      "\n",
      "Raw sentence: \" But could not fasten ?\"\n",
      "Prediction: {'🈶', '🙏', '🔞'}\n",
      "Cosine distance: 0.6125321239233017\n",
      "\n",
      "Raw sentence: \" See you this ?\"\n",
      "Prediction: {'😢', '🈁'}\n",
      "Cosine distance: 0.5336181620756785\n",
      "\n"
     ]
    }
   ],
   "source": [
    "for i in range(10):\n",
    "    print('Raw sentence:', ' '.join(w for w in raw_test[i] if w))\n",
    "    print('Prediction:', set(predictions[i]))\n",
    "    print('Cosine distance:', np.mean(distances[i]))\n",
    "    print()"
   ]
  },
  {
   "cell_type": "code",
   "execution_count": 28,
   "metadata": {},
   "outputs": [
    {
     "data": {
      "text/plain": [
       "[('', ['🙅', nan]),\n",
       " ('car', ['🚋', -2.384185791015625e-07]),\n",
       " ('red', ['🔺', 0.0]),\n",
       " ('post', ['🚩', 0.0]),\n",
       " ('free', ['🆓', 0.0]),\n",
       " ('secret', ['㊙', 0.0]),\n",
       " ('flag', ['🇫', 0.0]),\n",
       " ('discount', ['🈹', 0.0]),\n",
       " ('light', ['🕯', 0.0]),\n",
       " ('face', ['🦄', 0.0]),\n",
       " ('deer', ['🦌', 0.0]),\n",
       " ('turkey', ['🦃', 0.0]),\n",
       " ('cool', ['🆒', 0.0]),\n",
       " ('help', ['🆘', 0.0]),\n",
       " ('food', ['🦑', 0.0]),\n",
       " ('water', ['🚿', 0.0]),\n",
       " ('pin', ['📍', 0.0]),\n",
       " ('pencil', ['📝', 0.0]),\n",
       " ('door', ['🚪', 0.0]),\n",
       " ('guard', ['💂', 0.0]),\n",
       " ('hand', ['👏', 0.0]),\n",
       " ('body', ['👁', 0.0]),\n",
       " ('clock', ['⏱', 0.0]),\n",
       " ('cancer', ['🦀', 0.0]),\n",
       " ('application', ['🈸', 5.960464477539063e-08]),\n",
       " ('reserved', ['🈯', 1.1920928955078125e-07]),\n",
       " ('vacancy', ['🈳', 1.1920928955078125e-07]),\n",
       " ('game', ['🕹', 0.08123242855072021]),\n",
       " ('shark', ['🦈', 0.08927756547927856]),\n",
       " ('grin', ['😀', 0.11348378658294678]),\n",
       " ('bird', ['🦆', 0.11378347873687744]),\n",
       " ('knife', ['🗡', 0.11381083726882935]),\n",
       " ('eagle', ['🦅', 0.11796611547470093]),\n",
       " ('smile', ['😁', 0.11922049522399902]),\n",
       " ('arrow', ['🔙', 0.11955398321151733]),\n",
       " ('blood', ['🆎', 0.12365150451660156]),\n",
       " ('worship', ['🛐', 0.13499963283538818]),\n",
       " ('bronze', ['🥉', 0.1384938359260559]),\n",
       " ('badge', ['📛', 0.14002376794815063]),\n",
       " ('hug', ['🤗', 0.1431896686553955]),\n",
       " ('fruit', ['🥝', 0.14792293310165405]),\n",
       " ('duck', ['🦆', 0.14797508716583252]),\n",
       " ('flags', ['🇩', 0.15523719787597656]),\n",
       " ('ill', ['🤒', 0.1581241488456726]),\n",
       " ('diamond', ['🔹', 0.16167104244232178]),\n",
       " ('mountains', ['🗻', 0.16204947233200073]),\n",
       " ('angry', ['😠', 0.1622154712677002]),\n",
       " ('sharks', ['🦈', 0.16264408826828003]),\n",
       " ('gesture', ['🙍', 0.1647709608078003]),\n",
       " ('lie', ['🤥', 0.16554075479507446]),\n",
       " ('mouth', ['🤐', 0.16587311029434204]),\n",
       " ('truck', ['🚛', 0.1681041717529297]),\n",
       " ('fish', ['🦈', 0.16849523782730103]),\n",
       " ('sign', ['🛑', 0.17067617177963257]),\n",
       " ('sick', ['🤒', 0.17724484205245972]),\n",
       " ('tongue', ['😛', 0.17894381284713745]),\n",
       " ('pistol', ['🔫', 0.17992877960205078]),\n",
       " ('button', ['🔘', 0.18226122856140137]),\n",
       " ('salad', ['🥗', 0.18843311071395874]),\n",
       " ('lion', ['🦁', 0.19045346975326538]),\n",
       " ('worried', ['😟', 0.1922703981399536]),\n",
       " ('weight', ['🏋', 0.19392883777618408]),\n",
       " ('dance', ['🕺', 0.19569772481918335]),\n",
       " ('alarm', ['⏰', 0.19840586185455322]),\n",
       " ('neutral', ['😐', 0.20168429613113403]),\n",
       " ('chart', ['📊', 0.20173978805541992]),\n",
       " ('drink', ['🥛', 0.20444220304489136]),\n",
       " ('barred', ['🈲', 0.20632225275039673]),\n",
       " ('wicked', ['🖤', 0.21746516227722168]),\n",
       " ('insect', ['🦋', 0.2183482050895691]),\n",
       " ('forbidden', ['🈲', 0.2214166522026062]),\n",
       " ('fencing', ['🤺', 0.22196173667907715]),\n",
       " ('open', ['👐', 0.22295445203781128]),\n",
       " ('service', ['🈂', 0.2247530221939087]),\n",
       " ('newspaper', ['🗞', 0.22861188650131226]),\n",
       " ('rail', ['🚄', 0.22881299257278442]),\n",
       " ('bat', ['🦇', 0.23178130388259888]),\n",
       " ('chains', ['⛓', 0.23378682136535645]),\n",
       " ('fingers', ['🖐', 0.23406082391738892]),\n",
       " ('square', ['⏹', 0.2352086305618286]),\n",
       " ('doors', ['🚪', 0.23545289039611816]),\n",
       " ('turkeys', ['🦃', 0.23949605226516724]),\n",
       " ('amount', ['🈷', 0.24207264184951782]),\n",
       " ('moose', ['🦌', 0.24245232343673706]),\n",
       " ('questions', ['❓', 0.24381035566329956]),\n",
       " ('forbids', ['🈲', 0.24595803022384644]),\n",
       " ('faces', ['🦄', 0.2492814064025879]),\n",
       " ('banned', ['🈲', 0.25150012969970703]),\n",
       " ('hat', ['🤠', 0.2525917887687683]),\n",
       " ('mountain', ['🚠', 0.253684401512146]),\n",
       " ('arrows', ['↪', 0.2582895755767822]),\n",
       " ('horses', ['🏇', 0.2591736912727356]),\n",
       " ('milk', ['🥛', 0.26095616817474365]),\n",
       " ('birds', ['🦆', 0.26212090253829956]),\n",
       " ('injury', ['🤕', 0.2625306248664856]),\n",
       " ('liquor', ['🥃', 0.26316070556640625]),\n",
       " ('eggs', ['🥚', 0.26351892948150635]),\n",
       " ('dolphin', ['🦈', 0.26491886377334595]),\n",
       " ('d', ['🆔', 0.2660296559333801]),\n",
       " ('thinking', ['🤔', 0.26732224225997925])]"
      ]
     },
     "execution_count": 28,
     "metadata": {},
     "output_type": "execute_result"
    }
   ],
   "source": [
    "sorted(list(word2emoji.items()), key=lambda x: x[1][1])[0:100]"
   ]
  },
  {
   "cell_type": "code",
   "execution_count": null,
   "metadata": {},
   "outputs": [],
   "source": []
  }
 ],
 "metadata": {
  "kernelspec": {
   "display_name": "Python 3",
   "language": "python",
   "name": "python3"
  },
  "language_info": {
   "codemirror_mode": {
    "name": "ipython",
    "version": 3
   },
   "file_extension": ".py",
   "mimetype": "text/x-python",
   "name": "python",
   "nbconvert_exporter": "python",
   "pygments_lexer": "ipython3",
   "version": "3.6.5"
  }
 },
 "nbformat": 4,
 "nbformat_minor": 2
}
