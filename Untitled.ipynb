{
 "cells": [
  {
   "cell_type": "code",
   "execution_count": 6,
   "metadata": {},
   "outputs": [],
   "source": [
    "import numpy as np\n",
    "import tensorflow as tf\n",
    "from tensorflow.python.framework.ops import get_gradient_function\n",
    "import time"
   ]
  },
  {
   "cell_type": "code",
   "execution_count": 2,
   "metadata": {},
   "outputs": [],
   "source": [
    "sess = tf.InteractiveSession()"
   ]
  },
  {
   "cell_type": "code",
   "execution_count": 4,
   "metadata": {},
   "outputs": [],
   "source": [
    "embedding_ = tf.constant([[1.0, 0], [0, 1.0], [1/np.sqrt(2), 1/np.sqrt(2)]], name='embedding')\n",
    "ids_ = tf.placeholder(dtype=tf.int32, shape=[None,], name='ids')\n",
    "\n",
    "x_ = tf.nn.embedding_lookup(embedding_, ids_, name='x')\n",
    "W_ = tf.Variable(tf.random_uniform([2,3], -1, 1), name='W')\n",
    "logits_ = tf.matmul(x_, W_, name='logits')\n",
    "softmax_ = tf.nn.softmax(logits_, name='softmax')\n",
    "\n",
    "# out_ = tf.nn.embedding_lookup(embedding_, tf.arg_max(logits_, 1), name='out')\n",
    "out_ = tf.matmul(softmax_, embedding_)\n",
    "\n",
    "unit_x_ = tf.nn.l2_normalize(x_, axis=1)\n",
    "unit_out_ = tf.nn.l2_normalize(out_, axis=1)\n",
    "\n",
    "loss_ = tf.losses.cosine_distance(unit_x_, unit_out_, axis=1)\n",
    "opt_ = tf.train.AdamOptimizer(1e-3).minimize(loss_)"
   ]
  },
  {
   "cell_type": "code",
   "execution_count": 8,
   "metadata": {},
   "outputs": [
    {
     "data": {
      "text/plain": [
       "[0.37342864]"
      ]
     },
     "execution_count": 8,
     "metadata": {},
     "output_type": "execute_result"
    }
   ],
   "source": [
    "feed_dict = {ids_: [0,0,1,1]}\n",
    "sess.run(tf.global_variables_initializer())\n",
    "sess.run([loss_], feed_dict)"
   ]
  },
  {
   "cell_type": "code",
   "execution_count": 16,
   "metadata": {},
   "outputs": [
    {
     "data": {
      "text/plain": [
       "<function tensorflow.python.ops.math_ops.count_nonzero(input_tensor, axis=None, keepdims=None, dtype=tf.int64, name=None, reduction_indices=None, keep_dims=None)>"
      ]
     },
     "execution_count": 16,
     "metadata": {},
     "output_type": "execute_result"
    }
   ],
   "source": [
    "tf.count_nonzero"
   ]
  },
  {
   "cell_type": "code",
   "execution_count": 34,
   "metadata": {},
   "outputs": [
    {
     "data": {
      "text/plain": [
       "[]"
      ]
     },
     "execution_count": 34,
     "metadata": {},
     "output_type": "execute_result"
    }
   ],
   "source": [
    "tf.reset_default_graph()\n",
    "tf.get_default_graph().get_operations()"
   ]
  },
  {
   "cell_type": "code",
   "execution_count": 38,
   "metadata": {},
   "outputs": [
    {
     "name": "stdout",
     "output_type": "stream",
     "text": [
      "[<tf.Operation 'Add_these_numbers/x' type=Const>, <tf.Operation 'Add_these_numbers/y' type=Const>, <tf.Operation 'Add_these_numbers' type=Add>, <tf.Operation 'mult/y' type=Const>, <tf.Operation 'mult' type=Mul>, <tf.Operation 'nonzero/zeros' type=Const>, <tf.Operation 'nonzero/NotEqual' type=NotEqual>, <tf.Operation 'nonzero/ToInt64' type=Cast>, <tf.Operation 'nonzero/Const' type=Const>, <tf.Operation 'nonzero/Sum' type=Sum>]\n",
      "None\n",
      "None\n"
     ]
    }
   ],
   "source": [
    "tf.reset_default_graph()\n",
    "\n",
    "a = tf.add(1, 2, name=\"Add_these_numbers\")\n",
    "b = tf.multiply(a, 3, name='mult')\n",
    "nz = tf.count_nonzero(b, name='nonzero')\n",
    "graph = tf.get_default_graph()\n",
    "\n",
    "print(graph.get_operations())\n",
    "\n",
    "mult = tf.get_default_graph().get_operation_by_name('nonzero/zeros')\n",
    "print(get_gradient_function(mult))  # <function _MulGrad at 0x7fa29950dc80>\n",
    "\n",
    "tf.stop_gradient(a, name='stop')\n",
    "stop = tf.get_default_graph().get_operation_by_name('stop')\n",
    "print(get_gradient_function(stop))  # None"
   ]
  },
  {
   "cell_type": "code",
   "execution_count": 92,
   "metadata": {},
   "outputs": [
    {
     "name": "stdout",
     "output_type": "stream",
     "text": [
      "Epoch   0 Loss:  0.206 Epoch duration:  0.057s\n",
      "Epoch 1000 Loss:  0.053 Epoch duration:  0.000s\n",
      "Epoch 2000 Loss:  0.010 Epoch duration:  0.000s\n",
      "Epoch 3000 Loss:  0.004 Epoch duration:  0.000s\n",
      "Epoch 4000 Loss:  0.002 Epoch duration:  0.000s\n",
      "Epoch 5000 Loss:  0.001 Epoch duration:  0.000s\n",
      "Epoch 6000 Loss:  0.001 Epoch duration:  0.000s\n",
      "Epoch 7000 Loss:  0.000 Epoch duration:  0.000s\n",
      "Epoch 8000 Loss:  0.000 Epoch duration:  0.000s\n",
      "Epoch 9000 Loss:  0.000 Epoch duration:  0.000s\n"
     ]
    },
    {
     "data": {
      "text/plain": [
       "[array([[ 3.0951474, -1.6904345, -1.7094265],\n",
       "        [-1.9044945,  2.8817847, -2.005933 ]], dtype=float32)]"
      ]
     },
     "execution_count": 92,
     "metadata": {},
     "output_type": "execute_result"
    }
   ],
   "source": [
    "sess.run(tf.global_variables_initializer())\n",
    "feed_dict = {ids_: [0,0,1,1,2,2]}\n",
    "epochs = 10000\n",
    "\n",
    "for epoch_i in range(epochs):\n",
    "    start_time = time.time()\n",
    "    _, loss = sess.run([opt_, loss_], feed_dict)\n",
    "    if not epoch_i % 1000:\n",
    "        print('Epoch {:3} Loss: {:>6.3f} Epoch duration: {:>6.3f}s'.format(epoch_i, loss, time.time() - start_time))\n",
    "sess.run([W_], feed_dict={ids_: ids})"
   ]
  },
  {
   "cell_type": "code",
   "execution_count": 93,
   "metadata": {},
   "outputs": [
    {
     "data": {
      "text/plain": [
       "array([[0.9894262 , 0.0139119 ],\n",
       "       [0.9894262 , 0.0139119 ],\n",
       "       [0.01346027, 0.98961353],\n",
       "       [0.01346027, 0.98961353],\n",
       "       [0.5030536 , 0.5032965 ],\n",
       "       [0.5030536 , 0.5032965 ]], dtype=float32)"
      ]
     },
     "execution_count": 93,
     "metadata": {},
     "output_type": "execute_result"
    }
   ],
   "source": [
    "sess.run(out_, feed_dict)"
   ]
  },
  {
   "cell_type": "code",
   "execution_count": null,
   "metadata": {},
   "outputs": [],
   "source": []
  }
 ],
 "metadata": {
  "kernelspec": {
   "display_name": "Python 3",
   "language": "python",
   "name": "python3"
  },
  "language_info": {
   "codemirror_mode": {
    "name": "ipython",
    "version": 3
   },
   "file_extension": ".py",
   "mimetype": "text/x-python",
   "name": "python",
   "nbconvert_exporter": "python",
   "pygments_lexer": "ipython3",
   "version": "3.6.5"
  }
 },
 "nbformat": 4,
 "nbformat_minor": 2
}
