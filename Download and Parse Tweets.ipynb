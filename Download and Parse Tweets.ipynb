{
 "cells": [
  {
   "cell_type": "code",
   "execution_count": 1,
   "metadata": {},
   "outputs": [],
   "source": [
    "#from http://www.mikaelbrunila.fi/2017/03/27/scraping-extracting-mapping-geodata-twitter/\n",
    "# https://marcobonzanini.com/2015/03/02/mining-twitter-data-with-python-part-1/\n",
    "\n",
    "import tweepy\n",
    "from tweepy import OAuthHandler\n",
    "import json\n",
    "\n",
    "consumer_key = '93WP2pKvICGqCvrdA6FWMbFLB'\n",
    "consumer_secret = 'LWcPKp3oqEmYTTbVaNpRD5tgqLl2KAfe2bNGsBk5xwTjxLxqHH'\n",
    "access_token = '3080541417-QQ15kHSfkZYBWWSqLHwKwfqB3INeYgxpY3P9IbO'\n",
    "access_secret = '2nuMVxvX8TzMyl1xHkUvElNy6BqWjqdoolTvLLxwoXHi1'\n",
    "\n",
    "auth = OAuthHandler(consumer_key, consumer_secret)\n",
    "auth.set_access_token(access_token, access_secret)\n",
    " \n",
    "api = tweepy.API(auth)"
   ]
  },
  {
   "cell_type": "code",
   "execution_count": 2,
   "metadata": {},
   "outputs": [],
   "source": [
    "places = api.geo_search(query=\"USA\", granularity=\"country\")\n",
    "place_id = places[0].id"
   ]
  },
  {
   "cell_type": "code",
   "execution_count": 3,
   "metadata": {},
   "outputs": [
    {
     "name": "stdout",
     "output_type": "stream",
     "text": [
      "❤🐶woww wowww wowwww\n",
      "🐶❤ this diving dog can https://t.co/40MG6yJ1po | Ballenger Creek\n",
      "Go check out my mans youtube channel for the reviews on shoe apparel and more‼️‼️‼️ https://t.co/FZa0rPDbKO | North Carolina\n",
      "https://t.co/uMVOMyncfT | Chicago\n",
      "https://t.co/IBKoxW14qk | West Virginia\n",
      "I See You Tank... | New Jersey\n",
      "This O line is awful | Georgia\n",
      "@FatyCepeda We love a supportive queen https://t.co/piK8cgNfEH | Dallas\n",
      "@AndyHemmings66 Blankets are hope's nirvana https://t.co/IiIpBfmAmL | West Melbourne\n",
      "But anyway I love my man with all my heart. So 10/10 I’m keeping him ❤️ | Fontana\n"
     ]
    }
   ],
   "source": [
    "tweets = api.search(q=\"place:%s\" % place_id)\n",
    "for tweet in tweets:\n",
    "    print(tweet.text + \" | \" + tweet.place.name if tweet.place else \"Undefined place\")"
   ]
  },
  {
   "cell_type": "code",
   "execution_count": 4,
   "metadata": {},
   "outputs": [],
   "source": [
    "def barbieri_clean_up(tweet):\n",
    "    #casefold() lowercases all words. Replace corrects for emojis that are not separated by space to words. \n",
    "    raw = tweet.text.casefold().encode(encoding = 'unicode-escape').decode().replace('\\\\U',' \\\\U').split() \n",
    "    #remove all hyperlinks\n",
    "    new_raw = []\n",
    "    for item in raw:\n",
    "        if item.find('http') == -1:\n",
    "            new_raw.append(item)\n",
    "    return new_raw\n",
    "\n",
    "def emoji_count(clean_tweet):\n",
    "    i = 0\n",
    "    for item in clean_tweet:\n",
    "        if item.find('\\\\U') > -1:\n",
    "            i += 1\n",
    "    return i"
   ]
  },
  {
   "cell_type": "code",
   "execution_count": 5,
   "metadata": {},
   "outputs": [
    {
     "name": "stdout",
     "output_type": "stream",
     "text": [
      "❤🐶woww wowww wowwww\n",
      "🐶❤ this diving dog can https://t.co/40MG6yJ1po\n",
      "Go check out my mans youtube channel for the reviews on shoe apparel and more‼️‼️‼️ https://t.co/FZa0rPDbKO\n",
      "https://t.co/uMVOMyncfT\n",
      "https://t.co/IBKoxW14qk\n",
      "I See You Tank...\n",
      "This O line is awful\n",
      "@FatyCepeda We love a supportive queen https://t.co/piK8cgNfEH\n",
      "@AndyHemmings66 Blankets are hope's nirvana https://t.co/IiIpBfmAmL\n",
      "But anyway I love my man with all my heart. So 10/10 I’m keeping him ❤️\n",
      "\n",
      "['\\\\u2764', '\\\\U0001f436woww', 'wowww', 'wowwww\\\\n', '\\\\U0001f436\\\\u2764', 'this', 'diving', 'dog', 'can']\n",
      "\n",
      "2\n",
      "\n",
      "['go', 'check', 'out', 'my', 'mans', 'youtube', 'channel', 'for', 'the', 'reviews', 'on', 'shoe', 'apparel', 'and', 'more\\\\u203c\\\\ufe0f\\\\u203c\\\\ufe0f\\\\u203c\\\\ufe0f']\n",
      "\n",
      "0\n",
      "\n",
      "[]\n",
      "\n",
      "0\n",
      "\n",
      "[]\n",
      "\n",
      "0\n",
      "\n",
      "['i', 'see', 'you', 'tank...']\n",
      "\n",
      "0\n",
      "\n",
      "['this', 'o', 'line', 'is', 'awful']\n",
      "\n",
      "0\n",
      "\n",
      "['@fatycepeda', 'we', 'love', 'a', 'supportive', 'queen']\n",
      "\n",
      "0\n",
      "\n",
      "['@andyhemmings66', 'blankets', 'are', \"hope's\", 'nirvana']\n",
      "\n",
      "0\n",
      "\n",
      "['but', 'anyway', 'i', 'love', 'my', 'man', 'with', 'all', 'my', 'heart.', 'so', '10/10', 'i\\\\u2019m', 'keeping', 'him', '\\\\u2764\\\\ufe0f']\n",
      "\n",
      "0\n",
      "\n"
     ]
    }
   ],
   "source": [
    "[print(tweet.text) for tweet in tweets]\n",
    "print()\n",
    "for tweet in tweets:\n",
    "    clean_tweet = barbieri_clean_up(tweet)\n",
    "    print(clean_tweet)\n",
    "    print()\n",
    "    print(emoji_count(clean_tweet))\n",
    "    print()"
   ]
  },
  {
   "cell_type": "code",
   "execution_count": null,
   "metadata": {},
   "outputs": [],
   "source": []
  }
 ],
 "metadata": {
  "kernelspec": {
   "display_name": "Python 3",
   "language": "python",
   "name": "python3"
  },
  "language_info": {
   "codemirror_mode": {
    "name": "ipython",
    "version": 3
   },
   "file_extension": ".py",
   "mimetype": "text/x-python",
   "name": "python",
   "nbconvert_exporter": "python",
   "pygments_lexer": "ipython3",
   "version": "3.6.5"
  }
 },
 "nbformat": 4,
 "nbformat_minor": 2
}
