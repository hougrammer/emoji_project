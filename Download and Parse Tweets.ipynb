{
 "cells": [
  {
   "cell_type": "code",
   "execution_count": 1,
   "metadata": {},
   "outputs": [],
   "source": [
    "#from http://www.mikaelbrunila.fi/2017/03/27/scraping-extracting-mapping-geodata-twitter/\n",
    "# https://marcobonzanini.com/2015/03/02/mining-twitter-data-with-python-part-1/\n",
    "\n",
    "import tweepy\n",
    "from tweepy import OAuthHandler\n",
    "import json\n",
    "\n",
    "consumer_key = '93WP2pKvICGqCvrdA6FWMbFLB'\n",
    "consumer_secret = 'LWcPKp3oqEmYTTbVaNpRD5tgqLl2KAfe2bNGsBk5xwTjxLxqHH'\n",
    "access_token = '3080541417-QQ15kHSfkZYBWWSqLHwKwfqB3INeYgxpY3P9IbO'\n",
    "access_secret = '2nuMVxvX8TzMyl1xHkUvElNy6BqWjqdoolTvLLxwoXHi1'\n",
    "\n",
    "auth = OAuthHandler(consumer_key, consumer_secret)\n",
    "auth.set_access_token(access_token, access_secret)\n",
    " \n",
    "api = tweepy.API(auth)"
   ]
  },
  {
   "cell_type": "code",
   "execution_count": 2,
   "metadata": {},
   "outputs": [],
   "source": [
    "places = api.geo_search(query=\"USA\", granularity=\"country\")\n",
    "place_id = places[0].id"
   ]
  },
  {
   "cell_type": "code",
   "execution_count": 3,
   "metadata": {},
   "outputs": [
    {
     "name": "stdout",
     "output_type": "stream",
     "text": [
      "Just posted a photo @ Humphrey Pete's Restaurant https://t.co/mHKyxPrZVD | Brownwood\n",
      "@seecarlashoot Nooo! Hope the seller will exchange it | Portland\n",
      "@stevensongs https://t.co/4YJiX2OjMY | Kansas City\n",
      "Drinking a Divine Reserve No. 17 by @saintarnold at @tamu — https://t.co/SmBF4dMqvQ | College Station\n",
      "Is it just me or is Urban Meyer ultra dramatic this season? Or maybe I’ve just never paid attention to him? Whichev… https://t.co/02EpZG882q | Tahlequah\n",
      "Eating while TU w/ bae? 😫😭😋😍 https://t.co/k1Fy0dWKuq | North Myrtle Beach\n",
      "Wow, this defense is terrible!! | Sagamore Hills\n",
      "I meant to post these a while ago. #statefairofvirginia #2k18 https://t.co/q9rbwZ531A | The Meadow Event Park\n",
      "@Heather_Bond Only if she wants to watch is “yes” for me. She referring to anyone I love. | Clarksville\n"
     ]
    }
   ],
   "source": [
    "tweets = api.search(q=\"place:%s\" % place_id)\n",
    "for tweet in tweets:\n",
    "    print(tweet.text + \" | \" + tweet.place.name if tweet.place else \"Undefined place\")"
   ]
  },
  {
   "cell_type": "code",
   "execution_count": 5,
   "metadata": {},
   "outputs": [],
   "source": [
    "def barbieri_clean_up(tweet):\n",
    "    #casefold() lowercases all words. Replace corrects for emojis that are not separated by space to words. \n",
    "    raw = tweet.text.casefold().encode(encoding = 'unicode-escape').decode().replace('\\\\U',' \\\\U').split() \n",
    "    #remove all hyperlinks\n",
    "    new_raw = []\n",
    "    for item in raw:\n",
    "        if item.find('http') == -1:\n",
    "            new_raw.append(item)\n",
    "    return new_raw\n",
    "\n",
    "def emoji_count(clean_tweet):\n",
    "    i = 0\n",
    "    for item in clean_tweet:\n",
    "        if item.find('\\\\U') > -1:\n",
    "            i += 1\n",
    "    return i"
   ]
  },
  {
   "cell_type": "code",
   "execution_count": 6,
   "metadata": {},
   "outputs": [
    {
     "name": "stdout",
     "output_type": "stream",
     "text": [
      "Just posted a photo @ Humphrey Pete's Restaurant https://t.co/mHKyxPrZVD\n",
      "@seecarlashoot Nooo! Hope the seller will exchange it\n",
      "@stevensongs https://t.co/4YJiX2OjMY\n",
      "Drinking a Divine Reserve No. 17 by @saintarnold at @tamu — https://t.co/SmBF4dMqvQ\n",
      "Is it just me or is Urban Meyer ultra dramatic this season? Or maybe I’ve just never paid attention to him? Whichev… https://t.co/02EpZG882q\n",
      "Eating while TU w/ bae? 😫😭😋😍 https://t.co/k1Fy0dWKuq\n",
      "Wow, this defense is terrible!!\n",
      "I meant to post these a while ago. #statefairofvirginia #2k18 https://t.co/q9rbwZ531A\n",
      "@Heather_Bond Only if she wants to watch is “yes” for me. She referring to anyone I love.\n",
      "\n",
      "['just', 'posted', 'a', 'photo', '@', 'humphrey', \"pete's\", 'restaurant']\n",
      "\n",
      "0\n",
      "\n",
      "['@seecarlashoot', 'nooo!', 'hope', 'the', 'seller', 'will', 'exchange', 'it']\n",
      "\n",
      "0\n",
      "\n",
      "['@stevensongs']\n",
      "\n",
      "0\n",
      "\n",
      "['drinking', 'a', 'divine', 'reserve', 'no.', '17', 'by', '@saintarnold', 'at', '@tamu', '\\\\u2014']\n",
      "\n",
      "0\n",
      "\n",
      "['is', 'it', 'just', 'me', 'or', 'is', 'urban', 'meyer', 'ultra', 'dramatic', 'this', 'season?', 'or', 'maybe', 'i\\\\u2019ve', 'just', 'never', 'paid', 'attention', 'to', 'him?', 'whichev\\\\u2026']\n",
      "\n",
      "0\n",
      "\n",
      "['eating', 'while', 'tu', 'w/', 'bae?', '\\\\U0001f62b', '\\\\U0001f62d', '\\\\U0001f60b', '\\\\U0001f60d']\n",
      "\n",
      "4\n",
      "\n",
      "['wow,', 'this', 'defense', 'is', 'terrible!!']\n",
      "\n",
      "0\n",
      "\n",
      "['i', 'meant', 'to', 'post', 'these', 'a', 'while', 'ago.', '#statefairofvirginia', '#2k18']\n",
      "\n",
      "0\n",
      "\n",
      "['@heather_bond', 'only', 'if', 'she', 'wants', 'to', 'watch', 'is', '\\\\u201cyes\\\\u201d', 'for', 'me.', 'she', 'referring', 'to', 'anyone', 'i', 'love.']\n",
      "\n",
      "0\n",
      "\n"
     ]
    }
   ],
   "source": [
    "[print(tweet.text) for tweet in tweets]\n",
    "print()\n",
    "for tweet in tweets:\n",
    "    clean_tweet = barbieri_clean_up(tweet)\n",
    "    print(clean_tweet)\n",
    "    print()\n",
    "    print(emoji_count(clean_tweet))\n",
    "    print()"
   ]
  }
 ],
 "metadata": {
  "kernelspec": {
   "display_name": "Python 3",
   "language": "python",
   "name": "python3"
  },
  "language_info": {
   "codemirror_mode": {
    "name": "ipython",
    "version": 3
   },
   "file_extension": ".py",
   "mimetype": "text/x-python",
   "name": "python",
   "nbconvert_exporter": "python",
   "pygments_lexer": "ipython3",
   "version": "3.6.5"
  }
 },
 "nbformat": 4,
 "nbformat_minor": 2
}
